{
 "cells": [
  {
   "cell_type": "markdown",
   "metadata": {},
   "source": [
    "## Diamonds\n",
    "### Analyze diamonds by their cut, color, clarity, price, and other attributes"
   ]
  },
  {
   "cell_type": "code",
   "execution_count": 3,
   "metadata": {},
   "outputs": [],
   "source": [
    "import numpy as np\n",
    "import pandas as pd\n",
    "import sklearn\n",
    "\n",
    "import matplotlib.pyplot as plt\n",
    "import seaborn as sns\n",
    "sns.set()"
   ]
  },
  {
   "cell_type": "code",
   "execution_count": null,
   "metadata": {},
   "outputs": [],
   "source": [
    "df_diamonds = pd.read_csv('datasets/diamonds.csv')\n",
    "df_diamonds.info()"
   ]
  },
  {
   "cell_type": "code",
   "execution_count": null,
   "metadata": {},
   "outputs": [],
   "source": [
    "df_diamonds.drop(columns={\"Unnamed: 0\"}, inplace=True)"
   ]
  },
  {
   "cell_type": "code",
   "execution_count": null,
   "metadata": {},
   "outputs": [],
   "source": [
    "df_diamonds.describe(include='all')"
   ]
  },
  {
   "cell_type": "code",
   "execution_count": null,
   "metadata": {
    "scrolled": true
   },
   "outputs": [],
   "source": [
    "df_diamonds.head(10)"
   ]
  },
  {
   "cell_type": "markdown",
   "metadata": {},
   "source": [
    "## Attributes"
   ]
  },
  {
   "cell_type": "markdown",
   "metadata": {},
   "source": [
    "* ***price*** price in US dollars (\\$326--\\$18,823)\n",
    "\n",
    "* ***carat*** weight of the diamond (0.2--5.01)\n",
    "\n",
    "* ***cut*** quality of the cut (Fair, Good, Very Good, Premium, Ideal)\n",
    "\n",
    "* ***color*** diamond colour, from J (worst) to D (best)\n",
    "\n",
    "* ***clarity*** a measurement of how clear the diamond is (I1 (worst), SI2, SI1, VS2, VS1, VVS2, VVS1, IF (best))\n",
    "\n",
    "* ***x*** length in mm (0--10.74)\n",
    "\n",
    "* ***y*** width in mm (0--58.9)\n",
    "\n",
    "* ***z*** depth in mm (0--31.8)\n",
    "\n",
    "* ***depth*** total depth percentage = z / mean(x, y) = 2 * z / (x + y) (43--79)\n",
    "\n",
    "* ***table*** width of top of diamond relative to widest point (43--95)"
   ]
  },
  {
   "cell_type": "markdown",
   "metadata": {},
   "source": [
    "### Exibe as 10 primeiras linhas do dataset"
   ]
  },
  {
   "cell_type": "code",
   "execution_count": null,
   "metadata": {},
   "outputs": [],
   "source": [
    "df_diamonds.head(10)"
   ]
  },
  {
   "cell_type": "markdown",
   "metadata": {},
   "source": [
    "### Os ultimos 10 "
   ]
  },
  {
   "cell_type": "code",
   "execution_count": null,
   "metadata": {},
   "outputs": [],
   "source": [
    "df_diamonds.tail(10)"
   ]
  },
  {
   "cell_type": "markdown",
   "metadata": {},
   "source": [
    "### Existe valor nulo"
   ]
  },
  {
   "cell_type": "code",
   "execution_count": null,
   "metadata": {},
   "outputs": [],
   "source": [
    "df_diamonds.isnull().sum()"
   ]
  },
  {
   "cell_type": "markdown",
   "metadata": {},
   "source": [
    "### Type class cut | color | clarity"
   ]
  },
  {
   "cell_type": "code",
   "execution_count": null,
   "metadata": {},
   "outputs": [],
   "source": [
    "print('CUT: ', df_diamonds['cut'].unique())\n",
    "print('COLOR: ', df_diamonds['color'].unique())\n",
    "print('CLARITY: ', df_diamonds['clarity'].unique())"
   ]
  },
  {
   "cell_type": "markdown",
   "metadata": {},
   "source": [
    "### Exploratory Analysis"
   ]
  },
  {
   "cell_type": "code",
   "execution_count": null,
   "metadata": {},
   "outputs": [],
   "source": [
    "print('Attr: Carat')\n",
    "df_attr = df_diamonds[\"carat\"]\n",
    "print(f'Max : {df_attr.max()}')\n",
    "print(f'Min : {df_attr.min()}')\n",
    "print(f'Variance: {df_attr.var()}')\n",
    "print(f'Std : {df_attr.std()}')\n",
    "print(f'mean : {df_attr.mean()}')\n",
    "print(f'median : {df_attr.median()}')\n",
    "print(f'mode: {df_attr.mode()}')\n",
    "print(f'1 quartile 25%: {df_attr.quantile(q=0.25)}')\n",
    "print(f'2 quartile 50%: {df_attr.quantile(q=0.50)}')\n",
    "print(f'3 quartile 75%: {df_attr.quantile(q=0.75)}\\n')\n",
    "print(f'IQR: {df_attr.quantile(q=0.75)-df_attr.quantile(q=0.25)}\\n')\n",
    "print('Histogram = Positive skewed | prox normal')\n",
    "df_attr.hist(figsize=(5,3), bins=50)"
   ]
  },
  {
   "cell_type": "code",
   "execution_count": null,
   "metadata": {},
   "outputs": [],
   "source": [
    "print('Attr: Depth')\n",
    "df_attr = df_diamonds[\"depth\"]\n",
    "print(f'Max : {df_attr.max()}')\n",
    "print(f'Min : {df_attr.min()}')\n",
    "print(f'Variance: {df_attr.var()}')\n",
    "print(f'Std : {df_attr.std()}')\n",
    "print(f'mean : {df_attr.mean()}')\n",
    "print(f'median : {df_attr.median()}')\n",
    "print(f'mode: {df_attr.mode()}')\n",
    "print(f'1 quartile 25%: {df_attr.quantile(q=0.25)}')\n",
    "print(f'2 quartile 50%: {df_attr.quantile(q=0.50)}')\n",
    "print(f'3 quartile 75%: {df_attr.quantile(q=0.75)}\\n')\n",
    "print('Histogram = Positive skewed')\n",
    "\n",
    "df_attr.hist(figsize=(5,3), bins=50)"
   ]
  },
  {
   "cell_type": "code",
   "execution_count": null,
   "metadata": {},
   "outputs": [],
   "source": [
    "print('Attr: Table')\n",
    "df_attr = df_diamonds[\"table\"]\n",
    "print(f'Max : {df_attr.max()}')\n",
    "print(f'Min : {df_attr.min()}')\n",
    "print(f'Variance: {df_attr.var()}')\n",
    "print(f'Std : {df_attr.std()}')\n",
    "print(f'mean : {df_attr.mean()}')\n",
    "print(f'median : {df_attr.median()}')\n",
    "print(f'mode: {df_attr.mode()}')\n",
    "print(f'1 quartile 25%: {df_attr.quantile(q=0.25)}')\n",
    "print(f'2 quartile 50%: {df_attr.quantile(q=0.50)}')\n",
    "print(f'3 quartile 75%: {df_attr.quantile(q=0.75)}\\n')\n",
    "print('Histogram = Positive skewed')\n",
    "df_attr.hist(figsize=(5,3), bins=50)"
   ]
  },
  {
   "cell_type": "code",
   "execution_count": null,
   "metadata": {},
   "outputs": [],
   "source": [
    "print('Attr: Price')\n",
    "df_attr = df_diamonds[\"price\"]\n",
    "print(f'Max : {df_attr.max()}')\n",
    "print(f'Min : {df_attr.min()}')\n",
    "print(f'Variance: {df_attr.var()}')\n",
    "print(f'Std : {df_attr.std()}')\n",
    "print(f'mean : {df_attr.mean()}')\n",
    "print(f'median : {df_attr.median()}')\n",
    "print(f'mode: {df_attr.mode()}')\n",
    "print(f'1 quartile 25%: {df_attr.quantile(q=0.25)}')\n",
    "print(f'2 quartile 50%: {df_attr.quantile(q=0.50)}')\n",
    "print(f'3 quartile 75%: {df_attr.quantile(q=0.75)}\\n')\n",
    "print('Histogram = Negatively skewed')\n",
    "df_attr.hist(figsize=(5,3), bins=100)"
   ]
  },
  {
   "cell_type": "code",
   "execution_count": null,
   "metadata": {},
   "outputs": [],
   "source": [
    "print('Attr: X')\n",
    "df_attr = df_diamonds[\"x\"]\n",
    "print(f'Max : {df_attr.max()}')\n",
    "print(f'Min : {df_attr.min()}')\n",
    "print(f'Variance: {df_attr.var()}')\n",
    "print(f'Std : {df_attr.std()}')\n",
    "print(f'mean : {df_attr.mean()}')\n",
    "print(f'median : {df_attr.median()}')\n",
    "print(f'mode: {df_attr.mode()}')\n",
    "print(f'1 quartile 25%: {df_attr.quantile(q=0.25)}')\n",
    "print(f'2 quartile 50%: {df_attr.quantile(q=0.50)}')\n",
    "print(f'3 quartile 75%: {df_attr.quantile(q=0.75)}\\n')\n",
    "print('Histogram = Positive skewed')\n",
    "df_attr.hist(figsize=(5,3))"
   ]
  },
  {
   "cell_type": "code",
   "execution_count": null,
   "metadata": {},
   "outputs": [],
   "source": [
    "print('Attr: Y')\n",
    "df_attr = df_diamonds[\"y\"]\n",
    "print(f'Max : {df_attr.max()}')\n",
    "print(f'Min : {df_attr.min()}')\n",
    "print(f'Variance: {df_attr.var()}')\n",
    "print(f'Std : {df_attr.std()}')\n",
    "print(f'mean : {df_attr.mean()}')\n",
    "print(f'median : {df_attr.median()}')\n",
    "print(f'mode: {df_attr.mode()}')\n",
    "print(f'1 quartile 25%: {df_attr.quantile(q=0.25)}')\n",
    "print(f'2 quartile 50%: {df_attr.quantile(q=0.50)}')\n",
    "print(f'3 quartile 75%: {df_attr.quantile(q=0.75)}\\n')\n",
    "print('Histogram = Positive skewed')\n",
    "\n",
    "df_attr.hist(figsize=(5,3), bins=50)"
   ]
  },
  {
   "cell_type": "code",
   "execution_count": null,
   "metadata": {},
   "outputs": [],
   "source": [
    "print('Attr: Z')\n",
    "df_attr = df_diamonds[\"z\"]\n",
    "print(f'Max : {df_attr.max()}')\n",
    "print(f'Min : {df_attr.min()}')\n",
    "print(f'Variance: {df_attr.var()}')\n",
    "print(f'Std : {df_attr.std()}')\n",
    "print(f'mean : {df_attr.mean()}')\n",
    "print(f'median : {df_attr.median()}')\n",
    "print(f'mode: {df_attr.mode()}')\n",
    "print(f'1 quartile 25%: {df_attr.quantile(q=0.25)}')\n",
    "print(f'2 quartile 50%: {df_attr.quantile(q=0.50)}')\n",
    "print(f'3 quartile 75%: {df_attr.quantile(q=0.75)}\\n')\n",
    "print('Histogram = Positive skewed')\n",
    "\n",
    "df_attr.hist(figsize=(5,3), bins=100)"
   ]
  },
  {
   "cell_type": "markdown",
   "metadata": {},
   "source": [
    "### Boxplot"
   ]
  },
  {
   "cell_type": "code",
   "execution_count": null,
   "metadata": {},
   "outputs": [],
   "source": [
    "sns.boxplot(x=df_diamonds[\"carat\"])"
   ]
  },
  {
   "cell_type": "code",
   "execution_count": null,
   "metadata": {},
   "outputs": [],
   "source": [
    "sns.boxplot(x=df_diamonds[\"depth\"])"
   ]
  },
  {
   "cell_type": "code",
   "execution_count": null,
   "metadata": {},
   "outputs": [],
   "source": [
    "sns.boxplot(x=df_diamonds[\"table\"])"
   ]
  },
  {
   "cell_type": "code",
   "execution_count": null,
   "metadata": {
    "scrolled": true
   },
   "outputs": [],
   "source": [
    "sns.boxplot(x=df_diamonds[\"x\"])"
   ]
  },
  {
   "cell_type": "code",
   "execution_count": null,
   "metadata": {},
   "outputs": [],
   "source": [
    "sns.boxplot(x=df_diamonds[\"y\"])"
   ]
  },
  {
   "cell_type": "code",
   "execution_count": null,
   "metadata": {},
   "outputs": [],
   "source": [
    "sns.boxplot(x=df_diamonds[\"z\"])"
   ]
  },
  {
   "cell_type": "markdown",
   "metadata": {},
   "source": [
    "### Heatmap"
   ]
  },
  {
   "cell_type": "code",
   "execution_count": null,
   "metadata": {},
   "outputs": [],
   "source": [
    "plt.figure(figsize=(7,6))\n",
    "correlation = df_diamonds.corr()\n",
    "sns.heatmap(correlation, annot=True)\n",
    "plt.show()"
   ]
  },
  {
   "cell_type": "code",
   "execution_count": null,
   "metadata": {},
   "outputs": [],
   "source": [
    "import seaborn as sns\n",
    "import matplotlib.pyplot as plt\n",
    "\n",
    "\n",
    "usecols = [\"carat\",\"depth\",\"table\",\"x\",\"y\",\"z\",\"cut\"]\n",
    "df_diamonds = pd.read_csv('datasets/diamonds.csv',usecols=usecols)\n",
    "ax = sns.boxplot(data=df_diamonds, orient=\"h\", palette=\"Set2\")"
   ]
  },
  {
   "cell_type": "code",
   "execution_count": null,
   "metadata": {},
   "outputs": [],
   "source": [
    "from sklearn.preprocessing import StandardScaler\n",
    "\n",
    "scaler = StandardScaler()\n",
    "usecols = [\"carat\",\"depth\",\"table\",\"x\",\"y\",\"z\",\"price\"]\n",
    "df_diamonds = pd.read_csv('datasets/diamonds.csv',usecols=usecols)\n",
    "df_diamonds.drop(columns={\"Unnamed: 0\"}, inplace=True)\n",
    "df_diamonds = scaler.fit_transform(df_diamonds)"
   ]
  },
  {
   "cell_type": "code",
   "execution_count": null,
   "metadata": {},
   "outputs": [],
   "source": [
    "ax = sns.boxplot(data=df_diamonds, orient=\"h\", palette=\"Set2\")"
   ]
  },
  {
   "cell_type": "markdown",
   "metadata": {},
   "source": [
    "## Início Minhas Análises"
   ]
  },
  {
   "cell_type": "markdown",
   "metadata": {},
   "source": [
    "### Distribuições"
   ]
  },
  {
   "cell_type": "code",
   "execution_count": null,
   "metadata": {},
   "outputs": [],
   "source": [
    "order = {\n",
    "    \"cut\": [\"Ideal\",\"Premium\", \"Very Good\", \"Good\", \"Fair\"],\n",
    "    \"clarity\": [\"IF\", \"VVS1\", \"VVS2\", \"VS1\", \"VS2\", \"SI1\", \"SI2\", \"I1\"],\n",
    "    \"color\": [\"D\",\"E\",\"F\",\"G\",\"H\",\"I\",\"J\"]\n",
    "}"
   ]
  },
  {
   "cell_type": "code",
   "execution_count": null,
   "metadata": {},
   "outputs": [],
   "source": [
    "usecols = ['carat', 'depth', 'table', 'x', 'y', 'z']\n",
    "nrows, ncols = 2, 3\n",
    "plt.subplots(figsize=(20,10))\n",
    "for i, col in enumerate(usecols, 1):\n",
    "    plt.subplot(nrows, ncols, i)\n",
    "    sns.histplot(data=df_diamonds[col])"
   ]
  },
  {
   "cell_type": "code",
   "execution_count": null,
   "metadata": {},
   "outputs": [],
   "source": [
    "usecols = ['clarity', 'cut', 'color']\n",
    "nrows, ncols = 1, 3\n",
    "plt.subplots(figsize=(20,5))\n",
    "for i, col in enumerate(usecols, 1):\n",
    "    plt.subplot(nrows, ncols, i)\n",
    "    sns.countplot(x=col, data=df_diamonds, palette='magma', order=order[col])"
   ]
  },
  {
   "cell_type": "code",
   "execution_count": null,
   "metadata": {},
   "outputs": [],
   "source": [
    "plt.subplots(figsize=(10,5))\n",
    "sns.kdeplot(x=df_diamonds['carat'], data=df_diamonds, hue='color', hue_order=order['color'], \n",
    "            palette='bright', multiple=\"layer\")"
   ]
  },
  {
   "cell_type": "code",
   "execution_count": null,
   "metadata": {},
   "outputs": [],
   "source": [
    "plt.figure(figsize=(7,6))\n",
    "correlation = df_diamonds.corr()\n",
    "sns.heatmap(correlation, annot=True, vmin=-1, vmax=1, cmap=\"RdBu\")\n",
    "plt.show()"
   ]
  },
  {
   "cell_type": "code",
   "execution_count": null,
   "metadata": {},
   "outputs": [],
   "source": [
    "usecols = ['carat', 'depth', 'table']\n",
    "nrows, ncols = 1, 3\n",
    "plt.subplots(figsize=(15,4))\n",
    "for i, col in enumerate(usecols, 1):\n",
    "    plt.subplot(nrows, ncols, i)\n",
    "    sns.scatterplot(x=col, y=\"price\", data=df_diamonds, hue=\"clarity\", hue_order=order['clarity'])"
   ]
  },
  {
   "cell_type": "code",
   "execution_count": null,
   "metadata": {},
   "outputs": [],
   "source": [
    "usecols = ['carat', 'depth', 'table']\n",
    "nrows, ncols = 1, 3\n",
    "plt.subplots(figsize=(15,4))\n",
    "for i, col in enumerate(usecols, 1):\n",
    "    plt.subplot(nrows, ncols, i)\n",
    "    sns.scatterplot(x=col, y=\"price\", data=df_diamonds, hue=\"cut\", hue_order=order['cut'])"
   ]
  },
  {
   "cell_type": "code",
   "execution_count": null,
   "metadata": {},
   "outputs": [],
   "source": [
    "usecols = ['carat', 'depth', 'table']\n",
    "nrows, ncols = 1, 3\n",
    "plt.subplots(figsize=(15,4))\n",
    "for i, col in enumerate(usecols, 1):\n",
    "    plt.subplot(nrows, ncols, i)\n",
    "    sns.scatterplot(x=col, y=\"price\", data=df_diamonds, hue=\"color\", hue_order=order['color'])"
   ]
  },
  {
   "cell_type": "code",
   "execution_count": null,
   "metadata": {},
   "outputs": [],
   "source": [
    "usecols = ['price', 'depth', 'table']\n",
    "nrows, ncols = 1, 3\n",
    "plt.subplots(figsize=(15,4))\n",
    "for i, col in enumerate(usecols, 1):\n",
    "    plt.subplot(nrows, ncols, i)\n",
    "    sns.scatterplot(x=col, y=\"carat\", data=df_diamonds, hue=\"cut\", hue_order=order['cut'])"
   ]
  },
  {
   "cell_type": "code",
   "execution_count": null,
   "metadata": {},
   "outputs": [],
   "source": [
    "target_feature=\"price\"\n",
    "nrows, ncols = 2, 3\n",
    "plt.figure(figsize=(30,9))\n",
    "for i, row in enumerate([\"price\",\"carat\"]):\n",
    "    for j, col in enumerate([\"cut\",\"clarity\",\"color\"], 1):\n",
    "        plt.subplot(nrows, ncols, (i*ncols) + j)\n",
    "        sns.boxplot(data=df_diamonds, x=col, y=row, order=order[col])"
   ]
  },
  {
   "cell_type": "code",
   "execution_count": null,
   "metadata": {},
   "outputs": [],
   "source": []
  },
  {
   "cell_type": "markdown",
   "metadata": {},
   "source": [
    "#### Carat X Price"
   ]
  },
  {
   "cell_type": "code",
   "execution_count": null,
   "metadata": {},
   "outputs": [],
   "source": [
    "sns.scatterplot(x=\"carat\", y=\"price\", hue=\"clarity\", data=df_diamonds[(df_diamonds['clarity']=='SI1') | (df_diamonds['clarity']=='IF') | (df_diamonds['clarity']=='I1')])"
   ]
  },
  {
   "cell_type": "code",
   "execution_count": null,
   "metadata": {},
   "outputs": [],
   "source": [
    "sns.scatterplot(x=\"carat\", y=\"price\", hue=\"cut\", data=df_diamonds[df_diamonds[\"clarity\"]==\"I1\"])"
   ]
  },
  {
   "cell_type": "code",
   "execution_count": null,
   "metadata": {},
   "outputs": [],
   "source": [
    "sns.scatterplot(x=\"carat\", y=\"price\", hue=\"cut\", data=df_diamonds[df_diamonds[\"clarity\"]==\"IF\"])"
   ]
  },
  {
   "cell_type": "code",
   "execution_count": null,
   "metadata": {},
   "outputs": [],
   "source": [
    "sns.scatterplot(x=\"carat\", y=\"price\", hue=\"cut\", data=df_diamonds[df_diamonds[\"clarity\"]==\"SI2\"])"
   ]
  },
  {
   "cell_type": "markdown",
   "metadata": {},
   "source": [
    "#### Depth X Price"
   ]
  },
  {
   "cell_type": "markdown",
   "metadata": {},
   "source": [
    "#### Table X Price"
   ]
  },
  {
   "cell_type": "code",
   "execution_count": null,
   "metadata": {},
   "outputs": [],
   "source": [
    "sns.scatterplot(x=\"table\", y=\"depth\", hue=\"cut\", data=df_diamonds[df_diamonds['cut']==\"Ideal\"])"
   ]
  },
  {
   "cell_type": "code",
   "execution_count": null,
   "metadata": {},
   "outputs": [],
   "source": [
    "sns.scatterplot(x=\"x\", y=\"y\", hue=\"cut\", data=df_diamonds[df_diamonds['cut']==\"Ideal\"])"
   ]
  },
  {
   "cell_type": "code",
   "execution_count": null,
   "metadata": {},
   "outputs": [],
   "source": [
    "sns.jointplot(data=df_diamonds, x=\"depth\", y=\"table\", hue=\"cut\")"
   ]
  },
  {
   "cell_type": "code",
   "execution_count": null,
   "metadata": {},
   "outputs": [],
   "source": [
    "df_diamonds['price_per_carat'] = df_diamonds['price'] / df_diamonds['carat']"
   ]
  },
  {
   "cell_type": "code",
   "execution_count": null,
   "metadata": {},
   "outputs": [],
   "source": [
    "diamond=df_diamonds\n",
    "cut_clarity=pd.pivot_table(diamond, values='price', columns='cut', index='clarity', aggfunc='median')\n",
    "cut_color=pd.pivot_table(diamond, values='price', columns='cut', index='color', aggfunc='median')\n",
    "clarity_color=pd.pivot_table(diamond, values='price', columns='clarity', index='color', aggfunc='median')\n",
    "\n",
    "print(\"Combination of Color,Cut,Clarity with median price \")\n",
    "plt.figure(figsize=(15,3))\n",
    "plt.subplot(131)\n",
    "sns.heatmap(cut_clarity,cmap='Blues')\n",
    "\n",
    "plt.subplot(132)\n",
    "sns.heatmap(cut_color,cmap='Greys')\n",
    "\n",
    "plt.subplot(133)\n",
    "sns.heatmap(clarity_color,cmap='Blues')\n",
    "plt.show()"
   ]
  },
  {
   "cell_type": "code",
   "execution_count": null,
   "metadata": {},
   "outputs": [],
   "source": [
    "diamond=df_diamonds\n",
    "cut_clarity=pd.pivot_table(diamond, values='price_per_carat', columns='cut', index='clarity', aggfunc='median')\n",
    "cut_color=pd.pivot_table(diamond, values='price_per_carat', columns='cut', index='color', aggfunc='median')\n",
    "clarity_color=pd.pivot_table(diamond, values='price_per_carat', columns='clarity', index='color', aggfunc='median')\n",
    "\n",
    "print(\"Combination of Color,Cut,Clarity with median price per carat \")\n",
    "plt.figure(figsize=(15,3))\n",
    "plt.subplot(131)\n",
    "sns.heatmap(cut_clarity,cmap='Blues')\n",
    "\n",
    "plt.subplot(132)\n",
    "sns.heatmap(cut_color,cmap='Blues')\n",
    "\n",
    "plt.subplot(133)\n",
    "sns.heatmap(clarity_color,cmap='Blues')\n",
    "plt.show()"
   ]
  },
  {
   "cell_type": "code",
   "execution_count": null,
   "metadata": {},
   "outputs": [],
   "source": [
    "diamond=df_diamonds\n",
    "cut_clarity=pd.pivot_table(diamond, values='carat', columns='cut', index='clarity', aggfunc='median')\n",
    "cut_color=pd.pivot_table(diamond, values='carat', columns='cut', index='color', aggfunc='median')\n",
    "clarity_color=pd.pivot_table(diamond, values='carat', columns='clarity', index='color', aggfunc='median')\n",
    "\n",
    "print(\"Combination of Color,Cut,Clarity with median carat \")\n",
    "plt.figure(figsize=(15,3))\n",
    "plt.subplot(131)\n",
    "sns.heatmap(cut_clarity,cmap='Blues')\n",
    "\n",
    "plt.subplot(132)\n",
    "sns.heatmap(cut_color,cmap='Greys')\n",
    "\n",
    "plt.subplot(133)\n",
    "sns.heatmap(clarity_color,cmap='Blues')\n",
    "plt.show()"
   ]
  },
  {
   "cell_type": "code",
   "execution_count": null,
   "metadata": {},
   "outputs": [],
   "source": []
  },
  {
   "cell_type": "code",
   "execution_count": null,
   "metadata": {},
   "outputs": [],
   "source": [
    "plt.figure(figsize=(10,5))\n",
    "df_diamonds.corr()['price'].sort_values()[:-1].plot.barh()\n",
    "plt.title('Order of dependence of price on Numerical Features')\n",
    "plt.xlabel('Correaltion coefficient with Price')\n",
    "plt.ylabel('Feature')\n",
    "plt.show()"
   ]
  },
  {
   "cell_type": "code",
   "execution_count": null,
   "metadata": {},
   "outputs": [],
   "source": [
    "target_feature=\"price\"\n",
    "nrows, ncols = 2, 3\n",
    "plt.figure(figsize=(30,9))\n",
    "for i, row in enumerate([\"depth\",\"table\"]):\n",
    "    for j, col in enumerate([\"cut\",\"clarity\",\"color\"], 1):\n",
    "        plt.subplot(nrows, ncols, (i*ncols) + j)\n",
    "        sns.boxplot(data=df_diamonds, x=col, y=row, order=order[col])"
   ]
  },
  {
   "cell_type": "markdown",
   "metadata": {},
   "source": [
    "# Regressão"
   ]
  },
  {
   "cell_type": "code",
   "execution_count": 276,
   "metadata": {},
   "outputs": [],
   "source": [
    "from sklearn.preprocessing import StandardScaler, MinMaxScaler\n",
    "from sklearn.model_selection import cross_val_score, train_test_split\n",
    "from sklearn.metrics import mean_absolute_error, mean_squared_error, r2_score\n",
    "from sklearn.tree import DecisionTreeRegressor\n",
    "from sklearn.ensemble import RandomForestRegressor, GradientBoostingRegressor, AdaBoostRegressor\n",
    "from sklearn.neural_network import MLPRegressor"
   ]
  },
  {
   "cell_type": "code",
   "execution_count": 277,
   "metadata": {},
   "outputs": [],
   "source": [
    "df_diamonds = pd.read_csv('datasets/diamonds.csv')\n",
    "df_diamonds.drop(columns={\"Unnamed: 0\"}, inplace=True)\n",
    "df_diamonds[\"price\"] = df_diamonds[\"price\"].astype(float)"
   ]
  },
  {
   "cell_type": "code",
   "execution_count": 278,
   "metadata": {},
   "outputs": [],
   "source": [
    "df_diamonds['cut']=df_diamonds['cut'].map({'Ideal':5,'Good':4,'Very Good':3,'Premium':2, 'Fair':1})\n",
    "df_diamonds['color']=df_diamonds['color'].map({'D':7,'E':6,'F':5,'G':4,'H':3,'I':2,'J':1})\n",
    "df_diamonds['clarity']=df_diamonds['clarity'].map({'IF':8,'VVS1':7,'VVS2':6,'VS1':5,'VS2':4,'SI1':3,'SI2':2, 'I1':1})"
   ]
  },
  {
   "cell_type": "code",
   "execution_count": null,
   "metadata": {},
   "outputs": [],
   "source": []
  },
  {
   "cell_type": "code",
   "execution_count": 279,
   "metadata": {},
   "outputs": [],
   "source": [
    "ordem = ['carat','y','clarity','color','z','x','depth','table','cut']\n",
    "sixbest = ['carat','y','clarity','color','z','x']\n",
    "best = ['carat','y','z','x','depth','table']\n",
    "X=df_diamonds.drop('price', axis=1)[ordem]\n",
    "y=df_diamonds['price']"
   ]
  },
  {
   "cell_type": "code",
   "execution_count": 280,
   "metadata": {},
   "outputs": [],
   "source": [
    "#from sklearn.feature_selection import SelectKBest\n",
    "#from sklearn.feature_selection import f_regression, mutual_info_regression\n",
    "#X_new = SelectKBest(mutual_info_regression, k=4).fit_transform(X, y)\n",
    "#X_new"
   ]
  },
  {
   "cell_type": "code",
   "execution_count": 281,
   "metadata": {},
   "outputs": [],
   "source": [
    "#from sklearn.feature_selection import SequentialFeatureSelector\n",
    "\n",
    "#tic_fwd = time()\n",
    "#sfs_forward = SequentialFeatureSelector(lasso, n_features_to_select=2,\n",
    "#                                        direction='forward').fit(X, y)\n",
    "#toc_fwd = time()\n",
    "\n",
    "#tic_bwd = time()\n",
    "#sfs_backward = SequentialFeatureSelector(lasso, n_features_to_select=2,\n",
    "#                                         direction='backward').fit(X, y)"
   ]
  },
  {
   "cell_type": "code",
   "execution_count": null,
   "metadata": {},
   "outputs": [],
   "source": []
  },
  {
   "cell_type": "code",
   "execution_count": 282,
   "metadata": {},
   "outputs": [],
   "source": [
    "X_train, X_test, y_train, y_test = train_test_split(X , y , test_size=0.2, random_state=1)"
   ]
  },
  {
   "cell_type": "code",
   "execution_count": 283,
   "metadata": {},
   "outputs": [],
   "source": [
    "sc=MinMaxScaler()\n",
    "X_train_tx=sc.fit_transform(X_train)\n",
    "X_test_tx=sc.transform(X_test)"
   ]
  },
  {
   "cell_type": "code",
   "execution_count": 284,
   "metadata": {},
   "outputs": [],
   "source": [
    "dataset_1=(X_train, X_test, y_train, y_test, 'dataset_1')"
   ]
  },
  {
   "cell_type": "code",
   "execution_count": 285,
   "metadata": {},
   "outputs": [],
   "source": [
    "# Blank lists for all the details\n",
    "model_name=[]\n",
    "model_=[]\n",
    "cv_score_test=[]\n",
    "cv_score_train=[]\n",
    "mse_=[]\n",
    "mae_=[]\n",
    "rmse_=[]\n",
    "r2_=[]"
   ]
  },
  {
   "cell_type": "code",
   "execution_count": 286,
   "metadata": {},
   "outputs": [],
   "source": [
    "def run_model(model, dataset, modelname):\n",
    "    model.fit(dataset[0], dataset[2])\n",
    "    accuracies=cross_val_score(estimator=model, X=dataset[0], y=dataset[2], cv=5, verbose=1, n_jobs=-1)\n",
    "    y_pred=model.predict(dataset[1])\n",
    "    print('')\n",
    "    score_1=model.score(dataset[1], dataset[3])\n",
    "    print(f'#### {modelname} ####')\n",
    "    print(\"score :%.4f\" %score_1)\n",
    "    print(accuracies)\n",
    "    \n",
    "    \n",
    "    mse=mean_squared_error(dataset[3], y_pred)\n",
    "    mae=mean_absolute_error(dataset[3], y_pred)\n",
    "    rmse=mean_squared_error(dataset[3], y_pred)**0.5\n",
    "    r2=r2_score(dataset[3], y_pred)\n",
    "    \n",
    "    print('')\n",
    "    print('MSE    : %0.2f ' % mse)\n",
    "    print('MAE    : %0.2f ' % mae)\n",
    "    print('RMSE   : %0.2f ' % rmse)\n",
    "    print('R2     : %0.2f ' % r2)\n",
    "    \n",
    "    ## appending to the lists\n",
    "    \n",
    "    model_name.append(modelname)\n",
    "    model_.append(model)\n",
    "    cv_score_test.append(score_1)\n",
    "    cv_score_train.append(np.mean(accuracies))\n",
    "    mse_.append(mse)\n",
    "    mae_.append(mae)\n",
    "    rmse_.append(rmse)\n",
    "    r2_.append(r2)"
   ]
  },
  {
   "cell_type": "code",
   "execution_count": 287,
   "metadata": {},
   "outputs": [],
   "source": [
    "model_dict={'DecisionTreeRegressor': DecisionTreeRegressor(),\n",
    "            'AdaBoostRegressor': AdaBoostRegressor(),\n",
    "            'GradientBoostingRegressor': GradientBoostingRegressor(),\n",
    "            'RandomForestRegressor': RandomForestRegressor(),\n",
    "            'MLPRegressor': MLPRegressor(hidden_layer_sizes=(200, 100,), batch_size=100, learning_rate_init=0.004, learning_rate=\"adaptive\", max_iter=700, verbose=True)\n",
    "           }"
   ]
  },
  {
   "cell_type": "code",
   "execution_count": 288,
   "metadata": {
    "scrolled": false
   },
   "outputs": [
    {
     "name": "stderr",
     "output_type": "stream",
     "text": [
      "[Parallel(n_jobs=-1)]: Using backend LokyBackend with 4 concurrent workers.\n",
      "[Parallel(n_jobs=-1)]: Done   5 out of   5 | elapsed:    2.1s finished\n"
     ]
    },
    {
     "name": "stdout",
     "output_type": "stream",
     "text": [
      "\n",
      "#### DecisionTreeRegressor ####\n",
      "score :0.9656\n",
      "[0.96576758 0.96354146 0.96431765 0.9657518  0.96432813]\n",
      "\n",
      "MSE    : 534071.80 \n",
      "MAE    : 357.85 \n",
      "RMSE   : 730.80 \n",
      "R2     : 0.97 \n"
     ]
    },
    {
     "name": "stderr",
     "output_type": "stream",
     "text": [
      "[Parallel(n_jobs=-1)]: Using backend LokyBackend with 4 concurrent workers.\n",
      "[Parallel(n_jobs=-1)]: Done   5 out of   5 | elapsed:    6.9s finished\n"
     ]
    },
    {
     "name": "stdout",
     "output_type": "stream",
     "text": [
      "\n",
      "#### AdaBoostRegressor ####\n",
      "score :0.9249\n",
      "[0.91365272 0.91010708 0.91847942 0.91409324 0.92529687]\n",
      "\n",
      "MSE    : 1167701.83 \n",
      "MAE    : 817.96 \n",
      "RMSE   : 1080.60 \n",
      "R2     : 0.92 \n"
     ]
    },
    {
     "name": "stderr",
     "output_type": "stream",
     "text": [
      "[Parallel(n_jobs=-1)]: Using backend LokyBackend with 4 concurrent workers.\n",
      "[Parallel(n_jobs=-1)]: Done   5 out of   5 | elapsed:   12.1s finished\n"
     ]
    },
    {
     "name": "stdout",
     "output_type": "stream",
     "text": [
      "\n",
      "#### GradientBoostingRegressor ####\n",
      "score :0.9758\n",
      "[0.97367585 0.97543334 0.97790542 0.97435931 0.97626566]\n",
      "\n",
      "MSE    : 375283.09 \n",
      "MAE    : 339.81 \n",
      "RMSE   : 612.60 \n",
      "R2     : 0.98 \n"
     ]
    },
    {
     "name": "stderr",
     "output_type": "stream",
     "text": [
      "[Parallel(n_jobs=-1)]: Using backend LokyBackend with 4 concurrent workers.\n",
      "[Parallel(n_jobs=-1)]: Done   5 out of   5 | elapsed:   42.4s finished\n"
     ]
    },
    {
     "name": "stdout",
     "output_type": "stream",
     "text": [
      "\n",
      "#### RandomForestRegressor ####\n",
      "score :0.9819\n",
      "[0.98025077 0.98055135 0.98174137 0.9801239  0.98133041]\n",
      "\n",
      "MSE    : 281459.08 \n",
      "MAE    : 263.75 \n",
      "RMSE   : 530.53 \n",
      "R2     : 0.98 \n",
      "Iteration 1, loss = 5031594.61747994\n",
      "Iteration 2, loss = 712314.87604171\n",
      "Iteration 3, loss = 552270.54898871\n",
      "Iteration 4, loss = 509956.75860622\n",
      "Iteration 5, loss = 487578.92103582\n",
      "Iteration 6, loss = 471817.69907545\n",
      "Iteration 7, loss = 459025.32169058\n",
      "Iteration 8, loss = 439829.61176063\n",
      "Iteration 9, loss = 426776.94286953\n",
      "Iteration 10, loss = 416685.38744837\n",
      "Iteration 11, loss = 408202.52413667\n",
      "Iteration 12, loss = 400383.18401379\n",
      "Iteration 13, loss = 398719.26129049\n",
      "Iteration 14, loss = 387132.94101772\n",
      "Iteration 15, loss = 388164.74765768\n",
      "Iteration 16, loss = 379906.28438871\n",
      "Iteration 17, loss = 379236.24688890\n",
      "Iteration 18, loss = 370989.24144630\n",
      "Iteration 19, loss = 366357.86084962\n",
      "Iteration 20, loss = 365592.94155483\n",
      "Iteration 21, loss = 363899.50819421\n",
      "Iteration 22, loss = 358754.05875893\n",
      "Iteration 23, loss = 352524.47710638\n",
      "Iteration 24, loss = 357216.25712771\n",
      "Iteration 25, loss = 351059.76884181\n",
      "Iteration 26, loss = 351529.53469300\n",
      "Iteration 27, loss = 346470.22149450\n",
      "Iteration 28, loss = 345698.72185328\n",
      "Iteration 29, loss = 341000.35605849\n",
      "Iteration 30, loss = 340759.78914361\n",
      "Iteration 31, loss = 343732.74801866\n",
      "Iteration 32, loss = 341981.39481150\n",
      "Iteration 33, loss = 336923.07865990\n",
      "Iteration 34, loss = 340119.21747529\n",
      "Iteration 35, loss = 338876.53419684\n",
      "Iteration 36, loss = 336363.59709976\n",
      "Iteration 37, loss = 338042.68562581\n",
      "Iteration 38, loss = 334711.35338755\n",
      "Iteration 39, loss = 337162.05355464\n",
      "Iteration 40, loss = 331641.24731112\n",
      "Iteration 41, loss = 329482.56529152\n",
      "Iteration 42, loss = 332484.90538349\n",
      "Iteration 43, loss = 330690.11456797\n",
      "Iteration 44, loss = 333878.13212102\n",
      "Iteration 45, loss = 331169.67185017\n",
      "Iteration 46, loss = 322368.36335601\n",
      "Iteration 47, loss = 314007.86075939\n",
      "Iteration 48, loss = 306912.86229948\n",
      "Iteration 49, loss = 298802.24696076\n",
      "Iteration 50, loss = 291754.51485865\n",
      "Iteration 51, loss = 287642.41216644\n",
      "Iteration 52, loss = 274633.56427148\n",
      "Iteration 53, loss = 265515.53959932\n",
      "Iteration 54, loss = 257383.59682110\n",
      "Iteration 55, loss = 253004.39919723\n",
      "Iteration 56, loss = 247781.19202521\n",
      "Iteration 57, loss = 237126.49096895\n",
      "Iteration 58, loss = 230282.45012259\n",
      "Iteration 59, loss = 231730.54137071\n",
      "Iteration 60, loss = 228200.31939215\n",
      "Iteration 61, loss = 226843.86931770\n",
      "Iteration 62, loss = 225466.76086664\n",
      "Iteration 63, loss = 218948.74196142\n",
      "Iteration 64, loss = 225289.73050959\n",
      "Iteration 65, loss = 215647.12897782\n",
      "Iteration 66, loss = 215144.53490074\n",
      "Iteration 67, loss = 212937.66609582\n",
      "Iteration 68, loss = 212465.54909707\n",
      "Iteration 69, loss = 213213.60678156\n",
      "Iteration 70, loss = 210439.21462010\n",
      "Iteration 71, loss = 216733.60722676\n",
      "Iteration 72, loss = 208892.52900855\n",
      "Iteration 73, loss = 215272.36877375\n",
      "Iteration 74, loss = 209581.87332358\n",
      "Iteration 75, loss = 209722.89850527\n",
      "Iteration 76, loss = 211035.01279677\n",
      "Iteration 77, loss = 208357.57805895\n",
      "Iteration 78, loss = 205393.42391038\n",
      "Iteration 79, loss = 207060.91038857\n",
      "Iteration 80, loss = 204481.25459389\n",
      "Iteration 81, loss = 206098.73052022\n",
      "Iteration 82, loss = 205011.34626702\n",
      "Iteration 83, loss = 202301.85008692\n",
      "Iteration 84, loss = 203574.18107111\n",
      "Iteration 85, loss = 199815.72249818\n",
      "Iteration 86, loss = 202878.93094474\n",
      "Iteration 87, loss = 203555.46622158\n",
      "Iteration 88, loss = 198496.07580077\n",
      "Iteration 89, loss = 200429.15897369\n",
      "Iteration 90, loss = 199361.11344196\n",
      "Iteration 91, loss = 196377.37984292\n",
      "Iteration 92, loss = 194403.34894123\n",
      "Iteration 93, loss = 195673.27642269\n",
      "Iteration 94, loss = 193467.30771239\n",
      "Iteration 95, loss = 196248.47242761\n",
      "Iteration 96, loss = 195152.21463421\n",
      "Iteration 97, loss = 189367.83664455\n",
      "Iteration 98, loss = 189477.23007365\n",
      "Iteration 99, loss = 194925.70059906\n",
      "Iteration 100, loss = 189770.82836763\n",
      "Iteration 101, loss = 189003.13802727\n",
      "Iteration 102, loss = 188400.87936402\n",
      "Iteration 103, loss = 191914.71763169\n",
      "Iteration 104, loss = 187917.52565146\n",
      "Iteration 105, loss = 190043.69874883\n",
      "Iteration 106, loss = 183664.84841109\n",
      "Iteration 107, loss = 187010.05572046\n",
      "Iteration 108, loss = 187200.68078594\n",
      "Iteration 109, loss = 186692.38683889\n",
      "Iteration 110, loss = 187772.93337017\n",
      "Iteration 111, loss = 186900.35353579\n",
      "Iteration 112, loss = 187014.17095315\n",
      "Iteration 113, loss = 189455.34644411\n",
      "Iteration 114, loss = 186615.29591440\n",
      "Iteration 115, loss = 186103.46000982\n",
      "Iteration 116, loss = 185139.74850060\n",
      "Iteration 117, loss = 180978.37604712\n",
      "Iteration 118, loss = 185190.04788756\n",
      "Iteration 119, loss = 182318.64171053\n",
      "Iteration 120, loss = 186263.68576078\n",
      "Iteration 121, loss = 189464.58269479\n",
      "Iteration 122, loss = 184327.39891487\n",
      "Iteration 123, loss = 187943.62474080\n",
      "Iteration 124, loss = 190390.18074567\n",
      "Iteration 125, loss = 180902.28314138\n",
      "Iteration 126, loss = 181375.57374140\n",
      "Iteration 127, loss = 181681.42199567\n",
      "Iteration 128, loss = 183943.21215705\n",
      "Iteration 129, loss = 181632.63458034\n",
      "Iteration 130, loss = 182037.47369569\n",
      "Iteration 131, loss = 178642.91422535\n",
      "Iteration 132, loss = 179208.64872690\n",
      "Iteration 133, loss = 181891.31816669\n",
      "Iteration 134, loss = 179223.69221821\n",
      "Iteration 135, loss = 179143.73466022\n",
      "Iteration 136, loss = 180706.55341035\n",
      "Iteration 137, loss = 183519.74134427\n",
      "Iteration 138, loss = 181801.94268529\n",
      "Iteration 139, loss = 180655.01222780\n",
      "Iteration 140, loss = 177053.26174463\n",
      "Iteration 141, loss = 181051.62135401\n",
      "Iteration 142, loss = 180020.99767003\n",
      "Iteration 143, loss = 179838.05005993\n",
      "Iteration 144, loss = 177151.18645254\n",
      "Iteration 145, loss = 177330.16599653\n",
      "Iteration 146, loss = 182299.82663321\n",
      "Iteration 147, loss = 176386.17882183\n",
      "Iteration 148, loss = 179744.63953613\n",
      "Iteration 149, loss = 178540.83523484\n",
      "Iteration 150, loss = 178012.78254324\n",
      "Iteration 151, loss = 178755.35539061\n",
      "Iteration 152, loss = 177093.70230389\n",
      "Iteration 153, loss = 177863.86126362\n",
      "Iteration 154, loss = 176243.77710648\n",
      "Iteration 155, loss = 178051.69531014\n",
      "Iteration 156, loss = 177882.09879995\n",
      "Iteration 157, loss = 178887.48126315\n",
      "Iteration 158, loss = 177614.59875181\n",
      "Iteration 159, loss = 173939.91619077\n",
      "Iteration 160, loss = 178628.46875894\n",
      "Iteration 161, loss = 178611.38277822\n",
      "Iteration 162, loss = 177568.15422642\n",
      "Iteration 163, loss = 176699.30827474\n",
      "Iteration 164, loss = 181500.64854409\n",
      "Iteration 165, loss = 175069.81541140\n",
      "Iteration 166, loss = 173344.89728075\n",
      "Iteration 167, loss = 175266.76652769\n",
      "Iteration 168, loss = 173051.53401962\n",
      "Iteration 169, loss = 175452.94069194\n",
      "Iteration 170, loss = 174846.64499307\n",
      "Iteration 171, loss = 175123.49080944\n",
      "Iteration 172, loss = 174763.79488460\n",
      "Iteration 173, loss = 174246.37282380\n",
      "Iteration 174, loss = 174513.48451652\n",
      "Iteration 175, loss = 175577.05971532\n",
      "Iteration 176, loss = 174990.86073635\n",
      "Iteration 177, loss = 174020.71747671\n",
      "Iteration 178, loss = 172493.24844580\n",
      "Iteration 179, loss = 173545.92719997\n",
      "Iteration 180, loss = 174486.77631217\n",
      "Iteration 181, loss = 172538.13520863\n",
      "Iteration 182, loss = 174979.84919112\n",
      "Iteration 183, loss = 177538.90945950\n",
      "Iteration 184, loss = 171516.84241991\n",
      "Iteration 185, loss = 168903.10249561\n",
      "Iteration 186, loss = 173743.98073255\n",
      "Iteration 187, loss = 173850.46717532\n",
      "Iteration 188, loss = 170841.62617522\n",
      "Iteration 189, loss = 172477.37845907\n",
      "Iteration 190, loss = 169347.90527784\n",
      "Iteration 191, loss = 173125.60046276\n",
      "Iteration 192, loss = 171346.95194820\n",
      "Iteration 193, loss = 169579.22993654\n",
      "Iteration 194, loss = 169812.69341557\n",
      "Iteration 195, loss = 168942.04769009\n",
      "Iteration 196, loss = 172593.74832238\n",
      "Training loss did not improve more than tol=0.000100 for 10 consecutive epochs. Stopping.\n"
     ]
    },
    {
     "name": "stderr",
     "output_type": "stream",
     "text": [
      "[Parallel(n_jobs=-1)]: Using backend LokyBackend with 4 concurrent workers.\n",
      "[Parallel(n_jobs=-1)]: Done   5 out of   5 | elapsed: 11.8min finished\n"
     ]
    },
    {
     "name": "stdout",
     "output_type": "stream",
     "text": [
      "\n",
      "#### MLPRegressor ####\n",
      "score :0.9785\n",
      "[0.97548155 0.96823109 0.97638633 0.9743529  0.9773855 ]\n",
      "\n",
      "MSE    : 333670.32 \n",
      "MAE    : 325.80 \n",
      "RMSE   : 577.64 \n",
      "R2     : 0.98 \n"
     ]
    }
   ],
   "source": [
    "for models in model_dict:\n",
    "    run_model(model_dict[models], dataset_1, models)"
   ]
  },
  {
   "cell_type": "code",
   "execution_count": 289,
   "metadata": {},
   "outputs": [],
   "source": [
    "accuracy_data=pd.DataFrame(zip(model_name, cv_score_test, cv_score_train, mse_, mae_, rmse_, r2_), columns=['Model', 'CV Test score', 'CV Train score (mean)', '%%SVGean Squared error', 'Mean Absolute error', 'Root Mean Squared error', 'R2 Score'])"
   ]
  },
  {
   "cell_type": "code",
   "execution_count": 290,
   "metadata": {},
   "outputs": [
    {
     "data": {
      "text/html": [
       "<div>\n",
       "<style scoped>\n",
       "    .dataframe tbody tr th:only-of-type {\n",
       "        vertical-align: middle;\n",
       "    }\n",
       "\n",
       "    .dataframe tbody tr th {\n",
       "        vertical-align: top;\n",
       "    }\n",
       "\n",
       "    .dataframe thead th {\n",
       "        text-align: right;\n",
       "    }\n",
       "</style>\n",
       "<table border=\"1\" class=\"dataframe\">\n",
       "  <thead>\n",
       "    <tr style=\"text-align: right;\">\n",
       "      <th></th>\n",
       "      <th>Model</th>\n",
       "      <th>CV Test score</th>\n",
       "      <th>CV Train score (mean)</th>\n",
       "      <th>%%SVGean Squared error</th>\n",
       "      <th>Mean Absolute error</th>\n",
       "      <th>Root Mean Squared error</th>\n",
       "      <th>R2 Score</th>\n",
       "    </tr>\n",
       "  </thead>\n",
       "  <tbody>\n",
       "    <tr>\n",
       "      <th>0</th>\n",
       "      <td>DecisionTreeRegressor</td>\n",
       "      <td>0.965629</td>\n",
       "      <td>0.964741</td>\n",
       "      <td>5.340718e+05</td>\n",
       "      <td>357.846264</td>\n",
       "      <td>730.802165</td>\n",
       "      <td>0.965629</td>\n",
       "    </tr>\n",
       "    <tr>\n",
       "      <th>1</th>\n",
       "      <td>AdaBoostRegressor</td>\n",
       "      <td>0.924851</td>\n",
       "      <td>0.916326</td>\n",
       "      <td>1.167702e+06</td>\n",
       "      <td>817.958892</td>\n",
       "      <td>1080.602533</td>\n",
       "      <td>0.924851</td>\n",
       "    </tr>\n",
       "    <tr>\n",
       "      <th>2</th>\n",
       "      <td>GradientBoostingRegressor</td>\n",
       "      <td>0.975848</td>\n",
       "      <td>0.975528</td>\n",
       "      <td>3.752831e+05</td>\n",
       "      <td>339.812399</td>\n",
       "      <td>612.603534</td>\n",
       "      <td>0.975848</td>\n",
       "    </tr>\n",
       "    <tr>\n",
       "      <th>3</th>\n",
       "      <td>RandomForestRegressor</td>\n",
       "      <td>0.981886</td>\n",
       "      <td>0.980800</td>\n",
       "      <td>2.814591e+05</td>\n",
       "      <td>263.747287</td>\n",
       "      <td>530.527168</td>\n",
       "      <td>0.981886</td>\n",
       "    </tr>\n",
       "    <tr>\n",
       "      <th>4</th>\n",
       "      <td>MLPRegressor</td>\n",
       "      <td>0.978526</td>\n",
       "      <td>0.974367</td>\n",
       "      <td>3.336703e+05</td>\n",
       "      <td>325.803041</td>\n",
       "      <td>577.642036</td>\n",
       "      <td>0.978526</td>\n",
       "    </tr>\n",
       "  </tbody>\n",
       "</table>\n",
       "</div>"
      ],
      "text/plain": [
       "                       Model  CV Test score  CV Train score (mean)  \\\n",
       "0      DecisionTreeRegressor       0.965629               0.964741   \n",
       "1          AdaBoostRegressor       0.924851               0.916326   \n",
       "2  GradientBoostingRegressor       0.975848               0.975528   \n",
       "3      RandomForestRegressor       0.981886               0.980800   \n",
       "4               MLPRegressor       0.978526               0.974367   \n",
       "\n",
       "   %%SVGean Squared error  Mean Absolute error  Root Mean Squared error  \\\n",
       "0            5.340718e+05           357.846264               730.802165   \n",
       "1            1.167702e+06           817.958892              1080.602533   \n",
       "2            3.752831e+05           339.812399               612.603534   \n",
       "3            2.814591e+05           263.747287               530.527168   \n",
       "4            3.336703e+05           325.803041               577.642036   \n",
       "\n",
       "   R2 Score  \n",
       "0  0.965629  \n",
       "1  0.924851  \n",
       "2  0.975848  \n",
       "3  0.981886  \n",
       "4  0.978526  "
      ]
     },
     "execution_count": 290,
     "metadata": {},
     "output_type": "execute_result"
    }
   ],
   "source": [
    "accuracy_data"
   ]
  },
  {
   "cell_type": "code",
   "execution_count": 298,
   "metadata": {},
   "outputs": [
    {
     "ename": "AttributeError",
     "evalue": "'DecisionTreeRegressor' object has no attribute 'get_feature_names'",
     "output_type": "error",
     "traceback": [
      "\u001b[0;31m---------------------------------------------------------------------------\u001b[0m",
      "\u001b[0;31mAttributeError\u001b[0m                            Traceback (most recent call last)",
      "\u001b[0;32m<ipython-input-298-f9cb67837fad>\u001b[0m in \u001b[0;36m<module>\u001b[0;34m\u001b[0m\n\u001b[0;32m----> 1\u001b[0;31m \u001b[0mmodel_\u001b[0m\u001b[0;34m[\u001b[0m\u001b[0;36m0\u001b[0m\u001b[0;34m]\u001b[0m\u001b[0;34m.\u001b[0m\u001b[0mget_feature_names\u001b[0m\u001b[0;34m\u001b[0m\u001b[0;34m\u001b[0m\u001b[0m\n\u001b[0m",
      "\u001b[0;31mAttributeError\u001b[0m: 'DecisionTreeRegressor' object has no attribute 'get_feature_names'"
     ]
    }
   ],
   "source": [
    "model_[0].get_feature_names"
   ]
  },
  {
   "cell_type": "code",
   "execution_count": null,
   "metadata": {},
   "outputs": [],
   "source": []
  }
 ],
 "metadata": {
  "kernelspec": {
   "display_name": "Python 3",
   "language": "python",
   "name": "python3"
  },
  "language_info": {
   "codemirror_mode": {
    "name": "ipython",
    "version": 3
   },
   "file_extension": ".py",
   "mimetype": "text/x-python",
   "name": "python",
   "nbconvert_exporter": "python",
   "pygments_lexer": "ipython3",
   "version": "3.8.5"
  }
 },
 "nbformat": 4,
 "nbformat_minor": 4
}
