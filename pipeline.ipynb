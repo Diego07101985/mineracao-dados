{
 "cells": [
  {
   "cell_type": "code",
   "execution_count": 64,
   "metadata": {},
   "outputs": [],
   "source": [
    "import numpy as np\n",
    "import pandas as pd\n",
    "import sklearn\n",
    "import matplotlib.pyplot as plt\n",
    "import seaborn as sns\n",
    "sns.set()"
   ]
  },
  {
   "cell_type": "code",
   "execution_count": 65,
   "metadata": {},
   "outputs": [],
   "source": [
    "from sklearn.preprocessing import StandardScaler, MinMaxScaler, OneHotEncoder, OrdinalEncoder, PowerTransformer\n",
    "from sklearn.model_selection import cross_validate, train_test_split\n",
    "from sklearn.feature_selection import SelectFromModel\n",
    "from sklearn.metrics import mean_absolute_error, mean_squared_error, r2_score\n",
    "from sklearn.linear_model import LinearRegression, Lasso, Ridge\n",
    "from sklearn.tree import DecisionTreeRegressor\n",
    "from sklearn.ensemble import RandomForestRegressor, GradientBoostingRegressor, AdaBoostRegressor\n",
    "from sklearn.neighbors import KNeighborsRegressor\n",
    "from sklearn.neural_network import MLPRegressor"
   ]
  },
  {
   "cell_type": "code",
   "execution_count": 66,
   "metadata": {},
   "outputs": [],
   "source": [
    "from sklearn.pipeline import Pipeline\n",
    "from sklearn.compose import ColumnTransformer, TransformedTargetRegressor"
   ]
  },
  {
   "cell_type": "code",
   "execution_count": 67,
   "metadata": {},
   "outputs": [],
   "source": [
    "df_diamonds = pd.read_csv('datasets/diamonds.csv')\n",
    "df_diamonds[\"price\"] = df_diamonds[\"price\"].astype(float)\n",
    "#df_diamonds[\"Unnamed: 0\"] = df_diamonds[\"Unnamed: 0\"].astype(float)"
   ]
  },
  {
   "cell_type": "code",
   "execution_count": 68,
   "metadata": {},
   "outputs": [],
   "source": [
    "#outliers\n",
    "#df_diamonds = df_diamonds[df_diamonds.y < 11]\n",
    "#df_diamonds = df_diamonds[df_diamonds.z < 11]\n",
    "#df_diamonds = df_diamonds[df_diamonds.z > 1]\n",
    "#df_diamonds.drop(['x','y','z'], axis=1, inplace=True)"
   ]
  },
  {
   "cell_type": "code",
   "execution_count": 69,
   "metadata": {},
   "outputs": [],
   "source": [
    "X = df_diamonds.drop('price', axis=1)\n",
    "y = df_diamonds['price']"
   ]
  },
  {
   "cell_type": "code",
   "execution_count": 70,
   "metadata": {},
   "outputs": [],
   "source": [
    "X_train, X_test, y_train, y_test = train_test_split(X , y , test_size=0.2, random_state=1)"
   ]
  },
  {
   "cell_type": "code",
   "execution_count": 71,
   "metadata": {},
   "outputs": [],
   "source": [
    "order = {\n",
    "    \"cut\": [\"Ideal\",\"Premium\", \"Very Good\", \"Good\", \"Fair\"],\n",
    "    \"color\": [\"D\",\"E\",\"F\",\"G\",\"H\",\"I\",\"J\"],\n",
    "    \"clarity\": [\"IF\", \"VVS1\", \"VVS2\", \"VS1\", \"VS2\", \"SI1\", \"SI2\", \"I1\"]\n",
    "}"
   ]
  },
  {
   "cell_type": "code",
   "execution_count": 72,
   "metadata": {},
   "outputs": [],
   "source": [
    "atributos_numericos = X_train.select_dtypes('float').columns.tolist()\n",
    "transformer_numerico = StandardScaler()\n",
    "#transformer_numerico = MinMaxScaler()\n",
    "\n",
    "atributos_categoricos = X_train.select_dtypes('O').columns.tolist()\n",
    "#transformer_categorico = OneHotEncoder(handle_unknown='ignore')\n",
    "categorias = [[\"Fair\",\"Good\", \"Very Good\", \"Premium\", \"Ideal\"],\n",
    "              [\"J\",\"I\",\"H\",\"G\",\"F\",\"E\",\"D\"],\n",
    "              [\"I1\", \"SI2\", \"SI1\", \"VS2\", \"VS1\", \"VVS2\", \"VVS1\", \"IF\"]]\n",
    "\n",
    "transformer_categorico = OrdinalEncoder(categories=categorias)\n",
    "\n",
    "#selecao_atributos = SelectFromModel(DecisionTreeRegressor(random_state=42),threshold=0.001, max_features=7)\n",
    "\n",
    "preprocessor = ColumnTransformer(\n",
    "    transformers=[\n",
    "        ('num', transformer_numerico, atributos_numericos),\n",
    "        ('cat', transformer_categorico, atributos_categoricos)])\n",
    "\n",
    "\n",
    "pipeline = Pipeline(steps=[('preprocessor', preprocessor)])\n",
    "#pipeline = Pipeline(steps=[('preprocessor', preprocessor), ('selecao_atributos', selecao_atributos)])"
   ]
  },
  {
   "cell_type": "code",
   "execution_count": 73,
   "metadata": {},
   "outputs": [],
   "source": [
    "pipeline = pipeline.fit(X_train, y_train)"
   ]
  },
  {
   "cell_type": "code",
   "execution_count": 74,
   "metadata": {},
   "outputs": [
    {
     "data": {
      "text/plain": [
       "(43152, 10)"
      ]
     },
     "execution_count": 74,
     "metadata": {},
     "output_type": "execute_result"
    }
   ],
   "source": [
    "X_train.shape"
   ]
  },
  {
   "cell_type": "code",
   "execution_count": 75,
   "metadata": {},
   "outputs": [],
   "source": [
    "X_train = pipeline.transform(X_train)"
   ]
  },
  {
   "cell_type": "code",
   "execution_count": 76,
   "metadata": {},
   "outputs": [
    {
     "data": {
      "text/plain": [
       "(43152, 9)"
      ]
     },
     "execution_count": 76,
     "metadata": {},
     "output_type": "execute_result"
    }
   ],
   "source": [
    "X_train.shape"
   ]
  },
  {
   "cell_type": "code",
   "execution_count": 77,
   "metadata": {},
   "outputs": [],
   "source": [
    "X_test = pipeline.transform(X_test)"
   ]
  },
  {
   "cell_type": "code",
   "execution_count": 78,
   "metadata": {},
   "outputs": [],
   "source": [
    "dataset_1 = (X_train, X_test, y_train, y_test, 'dataset_1')"
   ]
  },
  {
   "cell_type": "code",
   "execution_count": 79,
   "metadata": {},
   "outputs": [],
   "source": [
    "model_name=[]\n",
    "model_=[]\n",
    "cv_score_test=[]\n",
    "cv_score_train=[]\n",
    "mse_=[]\n",
    "mae_=[]\n",
    "rmse_=[]\n",
    "r2_=[]"
   ]
  },
  {
   "cell_type": "code",
   "execution_count": 80,
   "metadata": {},
   "outputs": [],
   "source": [
    "scoring = {'r_2': 'r2',\n",
    "           'mae': 'neg_mean_absolute_error',\n",
    "           'rmse': 'neg_root_mean_squared_error'}"
   ]
  },
  {
   "cell_type": "code",
   "execution_count": 81,
   "metadata": {},
   "outputs": [],
   "source": [
    "def run_model(model, dataset, modelname):\n",
    "    \n",
    "    #model = TransformedTargetRegressor(regressor=model, func=np.log, inverse_func=np.exp)\n",
    "    \n",
    "    scores = cross_validate(estimator=model,\n",
    "                            X=dataset[0],\n",
    "                            y=dataset[2],\n",
    "                            scoring=scoring,\n",
    "                            return_train_score=True,\n",
    "                            return_estimator=True,\n",
    "                            cv=10, verbose=1, n_jobs=-1)\n",
    "    \n",
    "    print(f\"#### {modelname} ####\")\n",
    "    print('')\n",
    "    print('CV-R2    : %0.4f' %np.mean(scores['test_r_2']))\n",
    "    print('CV-MAE   : %0.4f' %np.mean(-scores['test_mae']))\n",
    "    print('CV-RMSE  : %0.4f' %np.mean(-scores['test_rmse']))\n",
    "    \n",
    "    print(scores['test_r_2'])\n",
    "    print(scores['test_mae'])\n",
    "    print(scores['test_rmse'])\n",
    "    \n",
    "    model.fit(dataset[0], dataset[2])\n",
    "    y_pred = model.predict(dataset[1])\n",
    "    \n",
    "    mse = mean_squared_error(dataset[3], y_pred)\n",
    "    mae = mean_absolute_error(dataset[3], y_pred)\n",
    "    rmse = mean_squared_error(dataset[3], y_pred)**0.5\n",
    "    r2 = r2_score(dataset[3], y_pred)\n",
    "    \n",
    "    print('')\n",
    "    #print('MSE     : %0.4f ' % mse)\n",
    "    print('TEST-R2    : %0.4f ' % r2)\n",
    "    print('TEST-MAE   : %0.4f ' % mae)\n",
    "    print('TEST-RMSE  : %0.4f ' % rmse)\n",
    "    \n",
    "    return 0\n",
    "    print('')\n",
    "    score_1=model.score(dataset[1], dataset[3])\n",
    "    print(f'#### {modelname} ####')\n",
    "    print(\"score :%.4f\" %score_1)\n",
    "    print(accuracies)\n",
    "    \n",
    "    \n",
    "    ## appending to the lists\n",
    "    \n",
    "    model_name.append(modelname)\n",
    "    model_.append(model)\n",
    "    cv_score_test.append(score_1)\n",
    "    cv_score_train.append(np.mean(accuracies))\n",
    "    mse_.append(mse)\n",
    "    mae_.append(mae)\n",
    "    rmse_.append(rmse)\n",
    "    r2_.append(r2)"
   ]
  },
  {
   "cell_type": "code",
   "execution_count": 87,
   "metadata": {},
   "outputs": [],
   "source": [
    "from xgboost import XGBRegressor\n",
    "model_dict={#'LinearRegression': LinearRegression(), \n",
    "            #'LassoRegression': Lasso(normalize=True),\n",
    "            #'RidgeRegression': Ridge(normalize=True),\n",
    "            #'DecisionTreeRegressor': DecisionTreeRegressor(),\n",
    "            #'GradientBoostingRegressor': GradientBoostingRegressor(),\n",
    "            'XGBRegressor': XGBRegressor(),\n",
    "            'RandomForestRegressor': RandomForestRegressor(),\n",
    "            #'KNeighborsRegressor': KNeighborsRegressor(),\n",
    "            #'MLPRegressor': MLPRegressor(hidden_layer_sizes=(200, 100, 50), batch_size=50, learning_rate_init=0.001, learning_rate=\"adaptive\", max_iter=700, verbose=True)\n",
    "           }"
   ]
  },
  {
   "cell_type": "code",
   "execution_count": 88,
   "metadata": {},
   "outputs": [
    {
     "name": "stderr",
     "output_type": "stream",
     "text": [
      "[Parallel(n_jobs=-1)]: Using backend LokyBackend with 4 concurrent workers.\n",
      "[Parallel(n_jobs=-1)]: Done  10 out of  10 | elapsed:  6.1min finished\n"
     ]
    },
    {
     "name": "stdout",
     "output_type": "stream",
     "text": [
      "#### XGBRegressor ####\n",
      "\n",
      "CV-R2    : 0.9811\n",
      "CV-MAE   : 279.6658\n",
      "CV-RMSE  : 549.1038\n",
      "[0.98042584 0.98242163 0.98082933 0.97979402 0.98115284 0.98179986\n",
      " 0.98002647 0.98131422 0.98306997 0.98031772]\n",
      "[-266.64376848 -273.9706958  -280.83687528 -291.62142789 -283.44069314\n",
      " -287.85279388 -269.4999746  -278.13463623 -282.54513816 -282.11233354]\n",
      "[-537.85023014 -523.78653688 -548.00430722 -578.49354318 -558.77592848\n",
      " -559.05594881 -538.55330309 -550.28389683 -534.13434324 -562.10010151]\n",
      "\n",
      "TEST-R2    : 0.9824 \n",
      "TEST-MAE   : 272.1734 \n",
      "TEST-RMSE  : 523.0895 \n"
     ]
    },
    {
     "name": "stderr",
     "output_type": "stream",
     "text": [
      "[Parallel(n_jobs=-1)]: Using backend LokyBackend with 4 concurrent workers.\n",
      "[Parallel(n_jobs=-1)]: Done  10 out of  10 | elapsed:  1.4min finished\n"
     ]
    },
    {
     "name": "stdout",
     "output_type": "stream",
     "text": [
      "#### RandomForestRegressor ####\n",
      "\n",
      "CV-R2    : 0.9811\n",
      "CV-MAE   : 271.2239\n",
      "CV-RMSE  : 549.4987\n",
      "[0.98077504 0.98128271 0.98113321 0.97984357 0.98299078 0.98151405\n",
      " 0.97958925 0.98079019 0.98317416 0.97969455]\n",
      "[-256.12455064 -270.99881764 -271.31563677 -285.56930063 -267.8658816\n",
      " -280.26934277 -259.0494674  -269.80821472 -272.94261246 -278.29544704]\n",
      "[-533.03098956 -540.48863139 -543.64364103 -577.78384636 -530.83169818\n",
      " -563.42845535 -544.41588817 -557.94668703 -532.48826244 -570.92919362]\n",
      "\n",
      "TEST-R2    : 0.9817 \n",
      "TEST-MAE   : 263.7529 \n",
      "TEST-RMSE  : 532.6543 \n"
     ]
    }
   ],
   "source": [
    "for models in model_dict:\n",
    "    run_model(model_dict[models], dataset_1, models)"
   ]
  },
  {
   "cell_type": "markdown",
   "metadata": {},
   "source": [
    "### NECESSÁRIO ENTENDER SE FAZ SENTIDO USAR LOG"
   ]
  }
 ],
 "metadata": {
  "kernelspec": {
   "display_name": "Python 3",
   "language": "python",
   "name": "python3"
  },
  "language_info": {
   "codemirror_mode": {
    "name": "ipython",
    "version": 3
   },
   "file_extension": ".py",
   "mimetype": "text/x-python",
   "name": "python",
   "nbconvert_exporter": "python",
   "pygments_lexer": "ipython3",
   "version": "3.8.5"
  }
 },
 "nbformat": 4,
 "nbformat_minor": 4
}
