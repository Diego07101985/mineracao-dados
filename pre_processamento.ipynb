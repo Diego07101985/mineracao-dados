{
 "cells": [
  {
   "cell_type": "markdown",
   "metadata": {},
   "source": [
    "## Pre processamento"
   ]
  },
  {
   "cell_type": "code",
   "execution_count": 2,
   "metadata": {
    "scrolled": true
   },
   "outputs": [
    {
     "name": "stdout",
     "output_type": "stream",
     "text": [
      "<class 'pandas.core.frame.DataFrame'>\n",
      "Int64Index: 0 entries\n",
      "Data columns (total 11 columns):\n",
      " #   Column      Non-Null Count  Dtype  \n",
      "---  ------      --------------  -----  \n",
      " 0   Unnamed: 0  0 non-null      int64  \n",
      " 1   carat       0 non-null      float64\n",
      " 2   cut         0 non-null      object \n",
      " 3   color       0 non-null      object \n",
      " 4   clarity     0 non-null      object \n",
      " 5   depth       0 non-null      float64\n",
      " 6   table       0 non-null      float64\n",
      " 7   price       0 non-null      int64  \n",
      " 8   x           0 non-null      float64\n",
      " 9   y           0 non-null      float64\n",
      " 10  z           0 non-null      float64\n",
      "dtypes: float64(6), int64(2), object(3)\n",
      "memory usage: 0.0+ bytes\n"
     ]
    }
   ],
   "source": [
    "import numpy as np\n",
    "import pandas as pd# Aprendizado de Comitês\n",
    "import matplotlib.pyplot as plt\n",
    "import sklearn\n",
    "\n",
    "df_diamonds = pd.read_csv('datasets/diamonds.csv')\n",
    "df_diamonds[df_diamonds.duplicated()].info()"
   ]
  },
  {
   "cell_type": "markdown",
   "metadata": {},
   "source": [
    "### Remove outliers"
   ]
  },
  {
   "cell_type": "code",
   "execution_count": 7,
   "metadata": {},
   "outputs": [
    {
     "name": "stderr",
     "output_type": "stream",
     "text": [
      "<ipython-input-7-27f9022e3b2a>:16: FutureWarning: Automatic reindexing on DataFrame vs Series comparisons is deprecated and will raise ValueError in a future version.  Do `left, right = left.align(right, axis=1, copy=False)` before e.g. `left == right`\n",
      "  df_out = df_in[~((df_in < range_iqr[0]) |(df_in > range_iqr[1])).any(axis=1)]\n",
      "<ipython-input-7-27f9022e3b2a>:16: FutureWarning: Automatic reindexing on DataFrame vs Series comparisons is deprecated and will raise ValueError in a future version.  Do `left, right = left.align(right, axis=1, copy=False)` before e.g. `left == right`\n",
      "  df_out = df_in[~((df_in < range_iqr[0]) |(df_in > range_iqr[1])).any(axis=1)]\n"
     ]
    }
   ],
   "source": [
    "df_number_type = df_diamonds.select_dtypes(exclude='O').columns[1:]\n",
    "\n",
    "def range_for_remove_outliers(attr):\n",
    "    df_attr = df_diamonds[attr]\n",
    "    q3 = df_attr.quantile(q=0.75)\n",
    "    q1 = df_attr.quantile(q=0.25)\n",
    "\n",
    "    IQR  = q3 - q1\n",
    "    min_IQR = q1 - 1.5 * IQR\n",
    "    max_IQR = q3 + 1.5 * IQR\n",
    "    \n",
    "    return (min_IQR,max_IQR)\n",
    "\n",
    "def remove_outlier(df_in, col_name):\n",
    "    range_iqr = range_for_remove_outliers(col_name)\n",
    "    df_out = df_in[~((df_in < range_iqr[0]) |(df_in > range_iqr[1])).any(axis=1)]\n",
    "    return df_out\n",
    "\n",
    "\n",
    "df_diamonds_ro = remove_outlier(df_diamonds, df_number_type)\n",
    " \n",
    "    \n",
    "df_diamonds_ro.to_csv('datasets/diamonds_remove_outliers.csv',index=False)"
   ]
  },
  {
   "cell_type": "code",
   "execution_count": 8,
   "metadata": {},
   "outputs": [
    {
     "data": {
      "image/png": "[encoded data removed]",
      "text/plain": [
       "<Figure size 2160x288 with 6 Axes>"
      ]
     },
     "metadata": {
      "needs_background": "light"
     },
     "output_type": "display_data"
    }
   ],
   "source": [
    "import seaborn as sns\n",
    "import matplotlib.pyplot as plt\n",
    "\n",
    "\n",
    "df_number_type = df_diamonds_ro.select_dtypes(exclude='O')\n",
    "df_without_price = df_number_type.drop(\"price\", axis = 'columns')\n",
    "\n",
    "plt.figure(figsize=(30,4))\n",
    "for i,feature in enumerate(df_without_price.columns[1:].tolist(),1):\n",
    "    plt.subplot(1,7,i)\n",
    "    sns.boxplot(x=df_number_type[feature])\n",
    "\n",
    "        \n",
    "plt.show()"
   ]
  },
  {
   "cell_type": "markdown",
   "metadata": {},
   "source": [
    "## Regressao linear"
   ]
  },
  {
   "cell_type": "code",
   "execution_count": 11,
   "metadata": {},
   "outputs": [],
   "source": [
    "# Conver to X & y\n",
    "df_number_type = df_diamonds.select_dtypes(exclude='O')\n",
    "y=df_number_type['price']\n",
    "X=df_number_type.drop('price', axis=1)\n"
   ]
  },
  {
   "cell_type": "code",
   "execution_count": 12,
   "metadata": {},
   "outputs": [],
   "source": [
    "from sklearn.model_selection import train_test_split\n",
    "\n",
    "X_train, X_test, y_train, y_test = train_test_split(X , y , test_size=0.2, random_state=1)"
   ]
  },
  {
   "cell_type": "code",
   "execution_count": 13,
   "metadata": {},
   "outputs": [],
   "source": [
    "from sklearn.preprocessing import StandardScaler\n",
    "from sklearn.model_selection import cross_val_score\n",
    "from sklearn.metrics import mean_absolute_error, mean_squared_error, r2_score\n",
    "from sklearn.linear_model import LinearRegression\n",
    "from sklearn.ensemble import RandomForestRegressor\n",
    "from sklearn.neighbors import KNeighborsRegressor\n",
    "from sklearn.metrics import confusion_matrix\n"
   ]
  },
  {
   "cell_type": "markdown",
   "metadata": {},
   "source": [
    "## Normalização"
   ]
  },
  {
   "cell_type": "code",
   "execution_count": 15,
   "metadata": {},
   "outputs": [],
   "source": [
    "sc=StandardScaler()\n",
    "X_train_tx=sc.fit_transform(X_train)\n",
    "X_test_tx=sc.transform(X_test)"
   ]
  },
  {
   "cell_type": "code",
   "execution_count": 16,
   "metadata": {},
   "outputs": [],
   "source": [
    "dataset_1=(X_train, X_test, y_train, y_test, 'dataset_1')"
   ]
  },
  {
   "cell_type": "code",
   "execution_count": 17,
   "metadata": {},
   "outputs": [],
   "source": [
    "# Blank lists for all the details\n",
    "model_=[]\n",
    "cv_score_test=[]\n",
    "cv_score_train=[]\n",
    "mse_=[]\n",
    "mae_=[]\n",
    "rmse_=[]\n",
    "r2_=[]"
   ]
  },
  {
   "cell_type": "code",
   "execution_count": 18,
   "metadata": {},
   "outputs": [],
   "source": [
    "def run_model(model, dataset, modelname):\n",
    "    model.fit(dataset[0], dataset[2])\n",
    "    accuracies=cross_val_score(estimator=model, X=dataset[0], y=dataset[2], cv=5, verbose=1)\n",
    "    y_pred=model.predict(dataset[1])\n",
    "    print('')\n",
    "    score_1=model.score(dataset[1], dataset[3])\n",
    "    print(f'#### {modelname} ####')\n",
    "    print(\"score :%.4f\" %score_1)\n",
    "    print(accuracies)\n",
    "    \n",
    "    \n",
    "    mse=mean_squared_error(dataset[3], y_pred)\n",
    "    mae=mean_absolute_error(dataset[3], y_pred)\n",
    "    rmse=mean_squared_error(dataset[3], y_pred)**0.5\n",
    "    r2=r2_score(dataset[3], y_pred)\n",
    "   \n",
    "    \n",
    "    print('')\n",
    "    print('MSE    : %0.2f ' % mse)\n",
    "    print('MAE    : %0.2f ' % mae)\n",
    "    print('RMSE   : %0.2f ' % rmse)\n",
    "    print('R2     : %0.2f ' % r2)\n",
    "    \n",
    "    ## appending to the lists\n",
    "    \n",
    "    model_.append(modelname)\n",
    "    cv_score_test.append(score_1)\n",
    "    cv_score_train.append(np.mean(accuracies))\n",
    "    mse_.append(mse)\n",
    "    mae_.append(mae)\n",
    "    rmse_.append(rmse)\n",
    "    r2_.append(r2)"
   ]
  },
  {
   "cell_type": "code",
   "execution_count": 49,
   "metadata": {},
   "outputs": [],
   "source": [
    "\n",
    "model_dict={'LinearRegression': LinearRegression(),\n",
    "           'RandomForestRegressor': RandomForestRegressor(), \n",
    "           'KNeighborsRegressor': KNeighborsRegressor(),\n",
    "            'MLPRegressor': MLPRegressor(hidden_layer_sizes=(100,), batch_size=2, learning_rate_init=0.01, learning_rate=\"adaptive\", max_iter=50, verbose=True)\n",
    "\n",
    "           }\n",
    "\n",
    "for models in model_dict:\n",
    "    run_model(model_dict[models], dataset_1, models)\n",
    "\n",
    "accuracy_data=pd.DataFrame(zip(model_, cv_score_test, cv_score_train, mse_, mae_, rmse_, r2_), columns=['Model', 'CV Test score', 'CV Train score (mean)', '%%SVGean Squared error', 'Mean Absolute error', 'Root Mean Squared error', 'R2 Score'])\n",
    "\n",
    "accuracy_data"
   ]
  },
  {
   "cell_type": "code",
   "execution_count": 50,
   "metadata": {},
   "outputs": [],
   "source": [
    "# run_model(model_dict['LinearRegression'], dataset_1, \"LinearRegression\")"
   ]
  },
  {
   "cell_type": "code",
   "execution_count": 51,
   "metadata": {},
   "outputs": [
    {
     "name": "stderr",
     "output_type": "stream",
     "text": [
      "[Parallel(n_jobs=1)]: Using backend SequentialBackend with 1 concurrent workers.\n",
      "[Parallel(n_jobs=1)]: Done   5 out of   5 | elapsed:    0.1s finished\n",
      "[Parallel(n_jobs=1)]: Using backend SequentialBackend with 1 concurrent workers.\n"
     ]
    },
    {
     "name": "stdout",
     "output_type": "stream",
     "text": [
      "\n",
      "#### LinearRegression ####\n",
      "score :0.8611\n",
      "[0.8601141  0.85515871 0.86385021 0.85686318 0.85983774]\n",
      "\n",
      "MSE    : 2158838.67 \n",
      "MAE    : 905.55 \n",
      "RMSE   : 1469.30 \n",
      "R2     : 0.86 \n",
      "\n",
      "#### LassoRegression ####\n",
      "score :0.8454\n",
      "[0.84664714 0.84620141 0.85141459 0.8444506  0.84760685]\n",
      "\n",
      "MSE    : 2402584.31 \n",
      "MAE    : 980.92 \n",
      "RMSE   : 1550.03 \n",
      "R2     : 0.85 \n"
     ]
    },
    {
     "name": "stderr",
     "output_type": "stream",
     "text": [
      "[Parallel(n_jobs=1)]: Done   5 out of   5 | elapsed:    0.1s finished\n",
      "[Parallel(n_jobs=1)]: Using backend SequentialBackend with 1 concurrent workers.\n",
      "[Parallel(n_jobs=1)]: Done   5 out of   5 | elapsed:  4.2min finished\n"
     ]
    },
    {
     "name": "stdout",
     "output_type": "stream",
     "text": [
      "\n",
      "#### AdaBoostRegressor ####\n",
      "score :0.9875\n",
      "[0.98918709 0.99029111 0.99075926 0.9913477  0.99080973]\n",
      "\n",
      "MSE    : 194216.47 \n",
      "MAE    : 303.83 \n",
      "RMSE   : 440.70 \n",
      "R2     : 0.99 \n"
     ]
    },
    {
     "name": "stderr",
     "output_type": "stream",
     "text": [
      "[Parallel(n_jobs=1)]: Using backend SequentialBackend with 1 concurrent workers.\n",
      "[Parallel(n_jobs=1)]: Done   5 out of   5 | elapsed:    0.6s finished\n"
     ]
    },
    {
     "name": "stdout",
     "output_type": "stream",
     "text": [
      "\n",
      "#### RidgeRegression ####\n",
      "score :0.7729\n",
      "[0.77500592 0.77181094 0.77592831 0.76464178 0.77084216]\n",
      "\n",
      "MSE    : 3528876.33 \n",
      "MAE    : 1216.78 \n",
      "RMSE   : 1878.53 \n",
      "R2     : 0.77 \n",
      "      Iter       Train Loss   Remaining Time \n",
      "         1    14154820.5543           19.37s\n",
      "         2    12551947.4294           14.44s\n",
      "         3    11215196.6146           24.79s\n",
      "         4    10024374.1165           21.45s\n",
      "         5     9049180.7672           22.90s\n",
      "         6     8161238.7715           20.80s\n",
      "         7     7435634.0832           23.34s\n",
      "         8     6798288.2557           22.01s\n",
      "         9     6230404.6579           20.77s\n",
      "        10     5757126.6662           19.79s\n",
      "        20     3195232.5282           17.03s\n",
      "        30     2377074.8209           11.94s\n",
      "        40     2093347.3915            8.47s\n",
      "        50     1950787.5021            6.31s\n",
      "        60     1848688.9737            5.05s\n",
      "        70     1770057.5748            3.65s\n",
      "        80     1708542.1965            2.25s\n",
      "        90     1659034.1231            1.04s\n",
      "       100     1618477.9015            0.00s\n",
      "      Iter       Train Loss   Remaining Time \n",
      "         1    14329771.9333            2.80s\n",
      "         2    12698125.8262            3.18s\n",
      "         3    11342803.5268            3.13s\n",
      "         4    10135964.6656            3.11s\n",
      "         5     9142555.0976            3.02s\n"
     ]
    },
    {
     "name": "stderr",
     "output_type": "stream",
     "text": [
      "[Parallel(n_jobs=1)]: Using backend SequentialBackend with 1 concurrent workers.\n"
     ]
    },
    {
     "name": "stdout",
     "output_type": "stream",
     "text": [
      "         6     8246129.4567            2.93s\n",
      "         7     7504921.2108            3.06s\n",
      "         8     6853997.5361            3.06s\n",
      "         9     6283959.3587            3.03s\n",
      "        10     5800702.9156            2.95s\n",
      "        20     3207787.4143            2.48s\n",
      "        30     2385288.5233            2.27s\n",
      "        40     2098166.5374            2.46s\n",
      "        50     1955357.7434            2.35s\n",
      "        60     1852935.4106            2.00s\n",
      "        70     1774032.6302            1.99s\n",
      "        80     1712821.2868            1.57s\n",
      "        90     1663369.4966            0.79s\n",
      "       100     1623196.1537            0.00s\n",
      "      Iter       Train Loss   Remaining Time \n",
      "         1    14130196.5374            2.96s\n",
      "         2    12526112.6871           12.84s\n",
      "         3    11194200.0544           19.96s\n",
      "         4    10005913.9875           20.67s\n",
      "         5     9031881.8411           17.36s\n",
      "         6     8148863.3483           15.46s\n",
      "         7     7425740.3208           13.87s\n",
      "         8     6771023.8595           12.65s\n",
      "         9     6224658.4916           11.90s\n",
      "        10     5754813.7938           11.33s\n",
      "        20     3200198.1008            6.41s\n",
      "        30     2383613.8973            4.70s\n",
      "        40     2101324.4607            3.55s\n",
      "        50     1960688.8429            2.75s\n",
      "        60     1859924.7452            2.06s\n",
      "        70     1781871.9597            1.51s\n",
      "        80     1720379.9656            0.96s\n",
      "        90     1671632.7689            0.50s\n",
      "       100     1631088.0318            0.00s\n",
      "      Iter       Train Loss   Remaining Time \n",
      "         1    13966090.3698            2.63s\n",
      "         2    12397745.9542            2.54s\n",
      "         3    11089312.6971            2.55s\n",
      "         4     9916044.0968            2.57s\n",
      "         5     8954025.0792            2.79s\n",
      "         6     8082575.7780            2.80s\n",
      "         7     7368200.4741            2.79s\n",
      "         8     6720581.9186            2.72s\n",
      "         9     6179091.8576            2.64s\n",
      "        10     5715274.3923            2.58s\n",
      "        20     3186193.9139            2.84s\n",
      "        30     2376596.0634            2.43s\n",
      "        40     2094061.1772            1.99s\n",
      "        50     1952108.7468            1.60s\n",
      "        60     1849636.1662            1.25s\n",
      "        70     1771336.5524            0.93s\n",
      "        80     1709362.0130            0.60s\n",
      "        90     1659523.6720            0.30s\n",
      "       100     1618811.5319            0.00s\n",
      "      Iter       Train Loss   Remaining Time \n",
      "         1    14293890.1514            2.44s\n",
      "         2    12668740.8059            2.39s\n",
      "         3    11309687.6974            2.36s\n",
      "         4    10123439.1098            2.39s\n",
      "         5     9121146.1839            2.56s\n",
      "         6     8237871.5563            2.63s\n",
      "         7     7490371.7519            2.85s\n",
      "         8     6830304.1599            2.99s\n",
      "         9     6277282.6623            2.96s\n",
      "        10     5784546.5130            2.85s\n",
      "        20     3198903.4391            2.32s\n",
      "        30     2373925.1795            2.14s\n",
      "        40     2088128.4379            1.84s\n",
      "        50     1946934.9139            1.48s\n",
      "        60     1846163.8107            1.16s\n",
      "        70     1769093.3415            0.87s\n",
      "        80     1708920.6150            0.57s\n",
      "        90     1660559.5859            0.32s\n",
      "       100     1620731.0813            0.00s\n",
      "      Iter       Train Loss   Remaining Time \n",
      "         1    14052132.7572            2.58s\n",
      "         2    12460606.7932            2.61s\n",
      "         3    11136913.1826            2.69s\n",
      "         4     9951062.1162            2.60s\n",
      "         5     8979763.9068            2.77s\n",
      "         6     8100261.1697            2.76s\n",
      "         7     7375837.5828            3.27s\n",
      "         8     6742820.4761            3.18s\n",
      "         9     6179796.4962            3.07s\n",
      "        10     5709339.5416            2.97s\n",
      "        20     3172824.9836            2.52s\n",
      "        30     2363329.1630            2.21s\n",
      "        40     2079256.2972            1.80s\n",
      "        50     1940558.1521            1.46s\n",
      "        60     1841042.9961            1.14s\n",
      "        70     1764831.0750            0.84s\n",
      "        80     1704937.1781            0.55s\n",
      "        90     1656863.1696            0.27s\n",
      "       100     1617047.5368            0.00s\n",
      "\n",
      "#### GradientBoostingRegressor ####\n",
      "score :0.8977\n",
      "[0.8939895  0.89872725 0.90354437 0.89183346 0.89755135]\n",
      "\n",
      "MSE    : 1589917.50 \n",
      "MAE    : 770.26 \n",
      "RMSE   : 1260.92 \n",
      "R2     : 0.90 \n"
     ]
    },
    {
     "name": "stderr",
     "output_type": "stream",
     "text": [
      "[Parallel(n_jobs=1)]: Done   5 out of   5 | elapsed:   22.1s finished\n",
      "[Parallel(n_jobs=1)]: Using backend SequentialBackend with 1 concurrent workers.\n",
      "[Parallel(n_jobs=1)]: Done   5 out of   5 | elapsed:  1.9min finished\n"
     ]
    },
    {
     "name": "stdout",
     "output_type": "stream",
     "text": [
      "\n",
      "#### RandomForestRegressor ####\n",
      "score :0.9999\n",
      "[0.99985804 0.99982825 0.99989411 0.99981389 0.99989319]\n",
      "\n",
      "MSE    : 1393.65 \n",
      "MAE    : 5.45 \n",
      "RMSE   : 37.33 \n",
      "R2     : 1.00 \n"
     ]
    },
    {
     "name": "stderr",
     "output_type": "stream",
     "text": [
      "[Parallel(n_jobs=1)]: Using backend SequentialBackend with 1 concurrent workers.\n",
      "[Parallel(n_jobs=1)]: Done   5 out of   5 | elapsed:    1.0s finished\n"
     ]
    },
    {
     "name": "stdout",
     "output_type": "stream",
     "text": [
      "\n",
      "#### KNeighborsRegressor ####\n",
      "score :0.9935\n",
      "[0.99312903 0.99454886 0.99431777 0.99525537 0.99247625]\n",
      "\n",
      "MSE    : 101363.53 \n",
      "MAE    : 34.67 \n",
      "RMSE   : 318.38 \n",
      "R2     : 0.99 \n"
     ]
    }
   ],
   "source": [
    "for models in model_dict:\n",
    "    run_model(model_dict[models], dataset_1, models)"
   ]
  },
  {
   "cell_type": "code",
   "execution_count": 52,
   "metadata": {},
   "outputs": [],
   "source": [
    "accuracy_data=pd.DataFrame(zip(model_, cv_score_test, cv_score_train, mse_, mae_, rmse_, r2_), columns=['Model', 'CV Test score', 'CV Train score (mean)', '%%SVGean Squared error', 'Mean Absolute error', 'Root Mean Squared error', 'R2 Score'])"
   ]
  },
  {
   "cell_type": "code",
   "execution_count": 53,
   "metadata": {},
   "outputs": [
    {
     "data": {
      "text/html": [
       "<div>\n",
       "<style scoped>\n",
       "    .dataframe tbody tr th:only-of-type {\n",
       "        vertical-align: middle;\n",
       "    }\n",
       "\n",
       "    .dataframe tbody tr th {\n",
       "        vertical-align: top;\n",
       "    }\n",
       "\n",
       "    .dataframe thead th {\n",
       "        text-align: right;\n",
       "    }\n",
       "</style>\n",
       "<table border=\"1\" class=\"dataframe\">\n",
       "  <thead>\n",
       "    <tr style=\"text-align: right;\">\n",
       "      <th></th>\n",
       "      <th>Model</th>\n",
       "      <th>CV Test score</th>\n",
       "      <th>CV Train score (mean)</th>\n",
       "      <th>%%SVGean Squared error</th>\n",
       "      <th>Mean Absolute error</th>\n",
       "      <th>Root Mean Squared error</th>\n",
       "      <th>R2 Score</th>\n",
       "    </tr>\n",
       "  </thead>\n",
       "  <tbody>\n",
       "    <tr>\n",
       "      <th>0</th>\n",
       "      <td>LinearRegression</td>\n",
       "      <td>0.861065</td>\n",
       "      <td>0.859165</td>\n",
       "      <td>2.158839e+06</td>\n",
       "      <td>905.550440</td>\n",
       "      <td>1469.298701</td>\n",
       "      <td>0.861065</td>\n",
       "    </tr>\n",
       "    <tr>\n",
       "      <th>1</th>\n",
       "      <td>LassoRegression</td>\n",
       "      <td>0.845379</td>\n",
       "      <td>0.847264</td>\n",
       "      <td>2.402584e+06</td>\n",
       "      <td>980.920046</td>\n",
       "      <td>1550.027197</td>\n",
       "      <td>0.845379</td>\n",
       "    </tr>\n",
       "    <tr>\n",
       "      <th>2</th>\n",
       "      <td>AdaBoostRegressor</td>\n",
       "      <td>0.987501</td>\n",
       "      <td>0.990479</td>\n",
       "      <td>1.942165e+05</td>\n",
       "      <td>303.829530</td>\n",
       "      <td>440.699976</td>\n",
       "      <td>0.987501</td>\n",
       "    </tr>\n",
       "    <tr>\n",
       "      <th>3</th>\n",
       "      <td>RidgeRegression</td>\n",
       "      <td>0.772895</td>\n",
       "      <td>0.771646</td>\n",
       "      <td>3.528876e+06</td>\n",
       "      <td>1216.775628</td>\n",
       "      <td>1878.530365</td>\n",
       "      <td>0.772895</td>\n",
       "    </tr>\n",
       "    <tr>\n",
       "      <th>4</th>\n",
       "      <td>GradientBoostingRegressor</td>\n",
       "      <td>0.897679</td>\n",
       "      <td>0.897129</td>\n",
       "      <td>1.589917e+06</td>\n",
       "      <td>770.264346</td>\n",
       "      <td>1260.919306</td>\n",
       "      <td>0.897679</td>\n",
       "    </tr>\n",
       "    <tr>\n",
       "      <th>5</th>\n",
       "      <td>RandomForestRegressor</td>\n",
       "      <td>0.999910</td>\n",
       "      <td>0.999857</td>\n",
       "      <td>1.393653e+03</td>\n",
       "      <td>5.450733</td>\n",
       "      <td>37.331659</td>\n",
       "      <td>0.999910</td>\n",
       "    </tr>\n",
       "    <tr>\n",
       "      <th>6</th>\n",
       "      <td>KNeighborsRegressor</td>\n",
       "      <td>0.993477</td>\n",
       "      <td>0.993945</td>\n",
       "      <td>1.013635e+05</td>\n",
       "      <td>34.670337</td>\n",
       "      <td>318.376394</td>\n",
       "      <td>0.993477</td>\n",
       "    </tr>\n",
       "  </tbody>\n",
       "</table>\n",
       "</div>"
      ],
      "text/plain": [
       "                       Model  CV Test score  CV Train score (mean)  \\\n",
       "0           LinearRegression       0.861065               0.859165   \n",
       "1            LassoRegression       0.845379               0.847264   \n",
       "2          AdaBoostRegressor       0.987501               0.990479   \n",
       "3            RidgeRegression       0.772895               0.771646   \n",
       "4  GradientBoostingRegressor       0.897679               0.897129   \n",
       "5      RandomForestRegressor       0.999910               0.999857   \n",
       "6        KNeighborsRegressor       0.993477               0.993945   \n",
       "\n",
       "   %%SVGean Squared error  Mean Absolute error  Root Mean Squared error  \\\n",
       "0            2.158839e+06           905.550440              1469.298701   \n",
       "1            2.402584e+06           980.920046              1550.027197   \n",
       "2            1.942165e+05           303.829530               440.699976   \n",
       "3            3.528876e+06          1216.775628              1878.530365   \n",
       "4            1.589917e+06           770.264346              1260.919306   \n",
       "5            1.393653e+03             5.450733                37.331659   \n",
       "6            1.013635e+05            34.670337               318.376394   \n",
       "\n",
       "   R2 Score  \n",
       "0  0.861065  \n",
       "1  0.845379  \n",
       "2  0.987501  \n",
       "3  0.772895  \n",
       "4  0.897679  \n",
       "5  0.999910  \n",
       "6  0.993477  "
      ]
     },
     "execution_count": 53,
     "metadata": {},
     "output_type": "execute_result"
    }
   ],
   "source": [
    "accuracy_data"
   ]
  },
  {
   "cell_type": "code",
   "execution_count": 25,
   "metadata": {},
   "outputs": [
    {
     "data": {
      "text/html": [
       "<div>\n",
       "<style scoped>\n",
       "    .dataframe tbody tr th:only-of-type {\n",
       "        vertical-align: middle;\n",
       "    }\n",
       "\n",
       "    .dataframe tbody tr th {\n",
       "        vertical-align: top;\n",
       "    }\n",
       "\n",
       "    .dataframe thead th {\n",
       "        text-align: right;\n",
       "    }\n",
       "</style>\n",
       "<table border=\"1\" class=\"dataframe\">\n",
       "  <thead>\n",
       "    <tr style=\"text-align: right;\">\n",
       "      <th></th>\n",
       "      <th>Model</th>\n",
       "      <th>CV Test score</th>\n",
       "      <th>CV Train score (mean)</th>\n",
       "      <th>%%SVGean Squared error</th>\n",
       "      <th>Mean Absolute error</th>\n",
       "      <th>Root Mean Squared error</th>\n",
       "      <th>R2 Score</th>\n",
       "    </tr>\n",
       "  </thead>\n",
       "  <tbody>\n",
       "    <tr>\n",
       "      <th>0</th>\n",
       "      <td>LinearRegression</td>\n",
       "      <td>0.861065</td>\n",
       "      <td>0.859165</td>\n",
       "      <td>2.158839e+06</td>\n",
       "      <td>905.550440</td>\n",
       "      <td>1469.298701</td>\n",
       "      <td>0.861065</td>\n",
       "    </tr>\n",
       "    <tr>\n",
       "      <th>1</th>\n",
       "      <td>LinearRegression</td>\n",
       "      <td>0.861065</td>\n",
       "      <td>0.859165</td>\n",
       "      <td>2.158839e+06</td>\n",
       "      <td>905.550440</td>\n",
       "      <td>1469.298701</td>\n",
       "      <td>0.861065</td>\n",
       "    </tr>\n",
       "    <tr>\n",
       "      <th>2</th>\n",
       "      <td>LassoRegression</td>\n",
       "      <td>0.845379</td>\n",
       "      <td>0.847264</td>\n",
       "      <td>2.402584e+06</td>\n",
       "      <td>980.920046</td>\n",
       "      <td>1550.027197</td>\n",
       "      <td>0.845379</td>\n",
       "    </tr>\n",
       "    <tr>\n",
       "      <th>3</th>\n",
       "      <td>AdaBoostRegressor</td>\n",
       "      <td>0.982999</td>\n",
       "      <td>0.989108</td>\n",
       "      <td>2.641776e+05</td>\n",
       "      <td>383.247213</td>\n",
       "      <td>513.982084</td>\n",
       "      <td>0.982999</td>\n",
       "    </tr>\n",
       "    <tr>\n",
       "      <th>4</th>\n",
       "      <td>RidgeRegression</td>\n",
       "      <td>0.772895</td>\n",
       "      <td>0.771646</td>\n",
       "      <td>3.528876e+06</td>\n",
       "      <td>1216.775628</td>\n",
       "      <td>1878.530365</td>\n",
       "      <td>0.772895</td>\n",
       "    </tr>\n",
       "    <tr>\n",
       "      <th>5</th>\n",
       "      <td>GradientBoostingRegressor</td>\n",
       "      <td>0.897679</td>\n",
       "      <td>0.897129</td>\n",
       "      <td>1.589917e+06</td>\n",
       "      <td>770.264346</td>\n",
       "      <td>1260.919306</td>\n",
       "      <td>0.897679</td>\n",
       "    </tr>\n",
       "    <tr>\n",
       "      <th>6</th>\n",
       "      <td>RandomForestRegressor</td>\n",
       "      <td>0.999906</td>\n",
       "      <td>0.999857</td>\n",
       "      <td>1.466881e+03</td>\n",
       "      <td>5.486387</td>\n",
       "      <td>38.299879</td>\n",
       "      <td>0.999906</td>\n",
       "    </tr>\n",
       "    <tr>\n",
       "      <th>7</th>\n",
       "      <td>KNeighborsRegressor</td>\n",
       "      <td>0.993477</td>\n",
       "      <td>0.993945</td>\n",
       "      <td>1.013635e+05</td>\n",
       "      <td>34.670337</td>\n",
       "      <td>318.376394</td>\n",
       "      <td>0.993477</td>\n",
       "    </tr>\n",
       "  </tbody>\n",
       "</table>\n",
       "</div>"
      ],
      "text/plain": [
       "                       Model  CV Test score  CV Train score (mean)  \\\n",
       "0           LinearRegression       0.861065               0.859165   \n",
       "1           LinearRegression       0.861065               0.859165   \n",
       "2            LassoRegression       0.845379               0.847264   \n",
       "3          AdaBoostRegressor       0.982999               0.989108   \n",
       "4            RidgeRegression       0.772895               0.771646   \n",
       "5  GradientBoostingRegressor       0.897679               0.897129   \n",
       "6      RandomForestRegressor       0.999906               0.999857   \n",
       "7        KNeighborsRegressor       0.993477               0.993945   \n",
       "\n",
       "   %%SVGean Squared error  Mean Absolute error  Root Mean Squared error  \\\n",
       "0            2.158839e+06           905.550440              1469.298701   \n",
       "1            2.158839e+06           905.550440              1469.298701   \n",
       "2            2.402584e+06           980.920046              1550.027197   \n",
       "3            2.641776e+05           383.247213               513.982084   \n",
       "4            3.528876e+06          1216.775628              1878.530365   \n",
       "5            1.589917e+06           770.264346              1260.919306   \n",
       "6            1.466881e+03             5.486387                38.299879   \n",
       "7            1.013635e+05            34.670337               318.376394   \n",
       "\n",
       "   R2 Score  \n",
       "0  0.861065  \n",
       "1  0.861065  \n",
       "2  0.845379  \n",
       "3  0.982999  \n",
       "4  0.772895  \n",
       "5  0.897679  \n",
       "6  0.999906  \n",
       "7  0.993477  "
      ]
     },
     "execution_count": 25,
     "metadata": {},
     "output_type": "execute_result"
    }
   ],
   "source": [
    "# tipos_de_avaliacao = ['Com Outiliers sem Normalizacao COSN','Sem Outiliers sem Normalizacao(Unammed)SOSN','Com outiliers e normalizacao CON','Sem Outliers com Normalizacao SON','Com outliers sem unamed com normalizacao', 'Sem outliers sem unamed'] \n",
    "# for avaliacao in tipos_de_avaliacao:      \n",
    "\n",
    "plt.figure(figsize=(20,5))\n",
    "for i,feature in enumerate(df_diamonds.select_dtypes(include='O').columns.tolist(),1):\n",
    "    plt.subplot(1,3,i)\n",
    "    df_diamonds[feature].value_counts(normalize=True).plot.bar()\n",
    "    plt.title(feature)\n"
   ]
  },
  {
   "cell_type": "code",
   "execution_count": null,
   "metadata": {},
   "outputs": [],
   "source": []
  },
  {
   "cell_type": "code",
   "execution_count": 26,
   "metadata": {},
   "outputs": [
    {
     "data": {
      "text/plain": [
       "['LinearRegression',\n",
       " 'LinearRegression',\n",
       " 'LassoRegression',\n",
       " 'AdaBoostRegressor',\n",
       " 'RidgeRegression',\n",
       " 'GradientBoostingRegressor',\n",
       " 'RandomForestRegressor',\n",
       " 'KNeighborsRegressor']"
      ]
     },
     "execution_count": 26,
     "metadata": {},
     "output_type": "execute_result"
    }
   ],
   "source": []
  },
  {
   "cell_type": "code",
   "execution_count": null,
   "metadata": {},
   "outputs": [],
   "source": []
  }
 ],
 "metadata": {
  "kernelspec": {
   "display_name": "Python 3",
   "language": "python",
   "name": "python3"
  },
  "language_info": {
   "codemirror_mode": {
    "name": "ipython",
    "version": 3
   },
   "file_extension": ".py",
   "mimetype": "text/x-python",
   "name": "python",
   "nbconvert_exporter": "python",
   "pygments_lexer": "ipython3",
   "version": "3.8.0"
  }
 },
 "nbformat": 4,
 "nbformat_minor": 4
}
